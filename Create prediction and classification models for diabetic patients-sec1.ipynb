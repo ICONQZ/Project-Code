{
 "cells": [
  {
   "cell_type": "markdown",
   "id": "30e9bf6d",
   "metadata": {},
   "source": [
    "### Assignment 1\n",
    "### Student ID: 34116478\n",
    "### Student Name: Qi Zhou"
   ]
  },
  {
   "cell_type": "markdown",
   "id": "d26afd97",
   "metadata": {},
   "source": [
    "# S1.  Model Complexity and Model Selection"
   ]
  },
  {
   "cell_type": "code",
   "execution_count": 1,
   "id": "85f6067f",
   "metadata": {},
   "outputs": [],
   "source": [
    "from sklearn.datasets import load_diabetes\n",
    "from scipy.stats import mode\n",
    "from scipy.spatial import KDTree  \n",
    "import numpy as np  \n",
    "import pandas as pd\n",
    "import numpy as np\n",
    "import matplotlib.pyplot as plt\n",
    "from sklearn.base import BaseEstimator"
   ]
  },
  {
   "cell_type": "markdown",
   "id": "03a699e5",
   "metadata": {},
   "source": [
    "## Question 1: KNN Regressor"
   ]
  },
  {
   "cell_type": "markdown",
   "id": "b7e7af0b",
   "metadata": {},
   "source": [
    "# 1.1 Implement a KNN regressor using the scikit-learn conventions, i.e., in a class with the following skeleton."
   ]
  },
  {
   "cell_type": "markdown",
   "id": "3a91f7bc",
   "metadata": {},
   "source": []
  },
  {
   "cell_type": "markdown",
   "id": "842508f4",
   "metadata": {},
   "source": [
    "In KNN regression, the predicted value $\\hat{y}(x)$ for a query point $x$ is calculated as the average of the target values $y_i$ of the nearest $k$ neighbors of $x$:\n",
    "\n",
    "$$\n",
    "\\hat{y}(x) = \\frac{1}{k} \\sum_{i=1}^{k} y_{i}\n",
    "$$\n",
    "\n",
    "Where:\n",
    "- $k$ is the number of nearest neighbors considered.\n",
    "- $y_{i}$ are the target values of the $k$ nearest neighbors to $x$.\n",
    "- The nearest neighbors are determined by some distance metric, typically Euclidean distance.\n",
    "\n",
    "The `predict` method computes this for each new instance $x$ to produce the output."
   ]
  },
  {
   "cell_type": "code",
   "execution_count": 2,
   "id": "0815a659",
   "metadata": {},
   "outputs": [],
   "source": [
    "# Import the corresponding data set, etc.\n",
    "diabetes = load_diabetes()"
   ]
  },
  {
   "cell_type": "code",
   "execution_count": 3,
   "id": "86a36798",
   "metadata": {},
   "outputs": [],
   "source": [
    "def train_test_split(x, y, train_size=0.7, random_state=36):\n",
    "    RNG = np.random.default_rng(random_state)\n",
    "    N = len(x)\n",
    "    idx = RNG.permutation(N)  # Randomly shuffle all indexes\n",
    "    N_train = round(N * train_size)\n",
    "    \n",
    "    idx_train = idx[:N_train]\n",
    "    idx_test = idx[N_train:]\n",
    "    \n",
    "    return x[idx_train], x[idx_test], y[idx_train], y[idx_test]\n",
    "\n",
    "x_train, x_test, y_train, y_test = train_test_split(diabetes.data, diabetes.target, train_size=0.7, random_state=36)"
   ]
  },
  {
   "cell_type": "code",
   "execution_count": 4,
   "id": "80b46158",
   "metadata": {},
   "outputs": [],
   "source": [
    "class KnnRegression:\n",
    "    \"\"\"\n",
    "    This is a K-nearest neighbors regression model, a non-parametric supervised learning algorithm.\n",
    "    It is a lazy learning algorithm, meaning that it does not learn a clear function or parameters from the training data during the training phase.\n",
    "    Instead, it stores the data and processes it in real-time when predictions are needed.\n",
    "    \"\"\"\n",
    "\n",
    "    def __init__(self, k):\n",
    "        \"\"\"\n",
    "        Initialize the KNN regression model.\n",
    "        \n",
    "        Parameters:\n",
    "        k: int, The number of nearest neighbors to use for prediction.\n",
    "        \"\"\"\n",
    "        self.k = k\n",
    "        \n",
    "    def fit(self, x, y):\n",
    "        \"\"\"\n",
    "        Fit the model with training data.\n",
    "        \n",
    "        Parameters:\n",
    "        x: array-like, Feature data with shape [n_samples, n_features].\n",
    "        y: array-like, Target values with shape [n_samples].\n",
    "        \n",
    "        Returns:\n",
    "        self: object, Returns an instance of the model.\n",
    "        \"\"\"\n",
    "        self.y_train_ = y\n",
    "        self.x_train_kdtree_ = KDTree(x)\n",
    "        return self\n",
    "\n",
    "    def predict(self, x):\n",
    "        \"\"\"\n",
    "        Predict the target values for new data.\n",
    "        \n",
    "        Parameters:\n",
    "        x: array-like, Features of the new data with shape [n_queries, n_features].\n",
    "        \n",
    "        Returns:\n",
    "        predict_value: array, Predicted values with shape [n_queries].\n",
    "        \"\"\"\n",
    "        # Query the indices of the nearest neighbors\n",
    "        _, neighbours = self.x_train_kdtree_.query(x, k=self.k)\n",
    "        neighbours = neighbours.reshape(len(x), self.k)\n",
    "        # Retrieve the labels of these nearest neighbors\n",
    "        neighbour_labels = self.y_train_[neighbours]\n",
    "        # Compute the mean of these labels as the prediction result\n",
    "        predict_value = np.mean(neighbour_labels, axis=1)\n",
    "        # Return the predicted values\n",
    "        return predict_value\n"
   ]
  },
  {
   "cell_type": "code",
   "execution_count": 5,
   "id": "d7aaa110",
   "metadata": {},
   "outputs": [],
   "source": [
    "def MSE(y, y_hat):\n",
    "    return np.square(np.subtract(y, y_hat)).mean()"
   ]
  },
  {
   "cell_type": "code",
   "execution_count": 6,
   "id": "fcb4c4ff",
   "metadata": {},
   "outputs": [],
   "source": [
    "knn = KnnRegression(k=3)\n",
    "knn.fit(x_train, y_train)\n",
    "y_hat_test = knn.predict(x_test)\n",
    "# y_hat_test"
   ]
  },
  {
   "cell_type": "markdown",
   "id": "231101f4",
   "metadata": {},
   "source": [
    "# 1.2  Test your diabetes implementation and report the training, test errors, the best k value"
   ]
  },
  {
   "cell_type": "code",
   "execution_count": 7,
   "id": "cc2de236",
   "metadata": {},
   "outputs": [],
   "source": [
    "def run(X, y):\n",
    "    # Split the dataset into training and testing sets\n",
    "    x_train, x_test, y_train, y_test = train_test_split(X, y, train_size=0.7, random_state=36)\n",
    "\n",
    "    error_rates_train = []\n",
    "    error_rates_test = []\n",
    "    max_epoch_k = 45\n",
    "    ks = np.arange(1, max_epoch_k + 1)\n",
    "\n",
    "    # Calculate training and testing errors for different values of K\n",
    "    for k in ks:\n",
    "        knn = KnnRegression(k).fit(x_train, y_train)\n",
    "        error_rates_train.append(MSE(y_train, knn.predict(x_train)))\n",
    "        error_rates_test.append(MSE(y_test, knn.predict(x_test)))\n",
    "\n",
    "    # Plot the errors\n",
    "    _, axs = plt.subplots(1, 2, figsize=(8, 4), tight_layout=True, sharey=True)\n",
    "    for ax, y_data, x_label, x_data in zip(\n",
    "            axs, \n",
    "            [error_rates_test, error_rates_test], \n",
    "            ['$k$', '$1/k$'], \n",
    "            [ks, 1/ks]\n",
    "        ):\n",
    "        ax.plot(x_data, y_data, label='test')\n",
    "        ax.plot(x_data, error_rates_train, label='train')\n",
    "        ax.margins(x=0)\n",
    "        ax.set_xlabel(x_label)\n",
    "        ax.legend()\n",
    "\n",
    "    axs[1].set_xscale('log')\n",
    "    axs[0].set_ylabel('error rate')\n",
    "\n",
    "    # Identify the best K value\n",
    "    best_k = np.argmin(error_rates_test) + 1\n",
    "    print(f\"\\n\\nFrom the above picture and form we can see the best k value is: {best_k}\\n\\n\")\n",
    "\n",
    "    plt.show()\n",
    "\n",
    "    # Print training and testing errors\n",
    "    error_df = pd.DataFrame({\n",
    "        'K Value': ks,\n",
    "        'Training Error': error_rates_train,\n",
    "        'Testing Error': error_rates_test\n",
    "    })\n",
    "\n",
    "    print(error_df)\n",
    "\n",
    "    return error_rates_train, error_rates_test\n"
   ]
  },
  {
   "cell_type": "code",
   "execution_count": 8,
   "id": "38c1cdb2",
   "metadata": {},
   "outputs": [
    {
     "name": "stdout",
     "output_type": "stream",
     "text": [
      "\n",
      "\n",
      "From the above picture and form we can see the best k value is: 30\n",
      "\n",
      "\n"
     ]
    },
    {
     "data": {
      "image/png": "[encoded data removed]",
      "text/plain": [
       "<Figure size 800x400 with 2 Axes>"
      ]
     },
     "metadata": {},
     "output_type": "display_data"
    },
    {
     "name": "stdout",
     "output_type": "stream",
     "text": [
      "    K Value  Training Error  Testing Error\n",
      "0         1        0.000000    6075.609023\n",
      "1         2     1496.421521    4509.466165\n",
      "2         3     2024.717008    4147.760234\n",
      "3         4     2423.438309    3810.119831\n",
      "4         5     2527.120518    3739.534436\n",
      "5         6     2483.938332    3804.612991\n",
      "6         7     2535.756093    3863.564984\n",
      "7         8     2572.774474    3914.312735\n",
      "8         9     2631.102122    3960.549243\n",
      "9        10     2712.384757    3842.941429\n",
      "10       11     2753.278986    3712.947306\n",
      "11       12     2782.837738    3709.816886\n",
      "12       13     2771.292449    3741.763002\n",
      "13       14     2813.678505    3672.343256\n",
      "14       15     2823.687508    3709.487084\n",
      "15       16     2847.376833    3643.584704\n",
      "16       17     2897.675424    3649.154070\n",
      "17       18     2929.041352    3591.835120\n",
      "18       19     2955.599584    3554.354779\n",
      "19       20     2992.135963    3550.934004\n",
      "20       21     3021.845012    3580.957104\n",
      "21       22     3021.081889    3554.813024\n",
      "22       23     3054.773291    3550.371150\n",
      "23       24     3067.909160    3600.290361\n",
      "24       25     3089.200026    3572.092090\n",
      "25       26     3091.425782    3577.267796\n",
      "26       27     3099.786412    3595.960519\n",
      "27       28     3104.903334    3568.769286\n",
      "28       29     3122.680362    3568.435107\n",
      "29       30     3101.118623    3523.499089\n",
      "30       31     3107.334172    3523.862150\n",
      "31       32     3127.910864    3580.548520\n",
      "32       33     3130.525270    3612.557275\n",
      "33       34     3128.207338    3620.775008\n",
      "34       35     3117.261254    3602.980150\n",
      "35       36     3124.710011    3570.363368\n",
      "36       37     3144.867576    3552.084299\n",
      "37       38     3145.484307    3608.739133\n",
      "38       39     3146.119682    3611.589170\n",
      "39       40     3163.685107    3626.326762\n",
      "40       41     3153.604148    3609.802346\n",
      "41       42     3148.434000    3611.329284\n",
      "42       43     3156.897436    3620.922840\n",
      "43       44     3159.554192    3627.602257\n",
      "44       45     3165.702985    3631.702579\n"
     ]
    }
   ],
   "source": [
    "diabetes_data = diabetes.data\n",
    "diabetes_target = diabetes.target\n",
    "error_rates_train, error_rates_test = run(diabetes.data, diabetes.target)"
   ]
  },
  {
   "cell_type": "markdown",
   "id": "141adbca",
   "metadata": {},
   "source": [
    "## Question 2: L-fold Cross Validation"
   ]
  },
  {
   "cell_type": "markdown",
   "id": "e7ee2a28",
   "metadata": {},
   "source": [
    "# 2.1 Implement a L-Fold Cross Validation (CV) scheme"
   ]
  },
  {
   "cell_type": "markdown",
   "id": "2e4760d5",
   "metadata": {},
   "source": [
    "## L-Fold Cross-Validation\n",
    "\n",
    "L-Fold cross-validation involves partitioning a sample of data into $L$ complementary subsets, performing the analysis on $L - 1$ folds, and then validating the analysis on the remaining one fold. This is repeated such that each fold is used for validation once.\n",
    "\n",
    "### Process\n",
    "\n",
    "Given $L$ number of folds and a dataset with $N$ instances:\n",
    "\n",
    "1. Split the dataset into $L$ subsets (folds) of equal or approximately equal size.\n",
    "2. For each fold $l$ where $l = 1, 2, ..., L$:\n",
    "   - Take fold $l$ as the test set and take the union of the other $L - 1$ folds as the training set.\n",
    "   - Fit the model on the training set and evaluate it on the test set.\n",
    "   - Retain the evaluation score and discard the model.\n",
    "3. The performance measure reported by $L$-fold cross-validation is then the average of the values computed in the loop.\n",
    "\n",
    "### Formal Representation\n",
    "\n",
    "The process of $L$-fold cross-validation for one fold can be formalized by the following sets:\n",
    "\n",
    "- Training index set for fold $l$: $I_{train}^l$\n",
    "- Testing index set for fold $l$: $I_{test}^l$\n",
    "\n",
    "For a given fold $l$:\n",
    "\n",
    "$$\n",
    "I_{train}^l = \\bigcup_{i=1, i \\neq l}^{L} fold_i\n",
    "$$\n",
    "\n",
    "$$\n",
    "I_{test}^l = fold_l\n",
    "$$\n",
    "\n",
    "Where $fold_i$ is the $i$-th subset of the data."
   ]
  },
  {
   "cell_type": "code",
   "execution_count": 9,
   "id": "5e366975",
   "metadata": {},
   "outputs": [],
   "source": [
    "class LFold:\n",
    "    \"\"\"\n",
    "    The LFold class is used to generate splits for training and test data.\n",
    "    This can be used for cross-validation and other forms of model validation.\n",
    "    \"\"\"\n",
    "\n",
    "    def __init__(self, n_splits):\n",
    "        \"\"\"\n",
    "        Initializes an instance of the LFold class.\n",
    "        Parameters:\n",
    "        n_splits: int, the number of parts the data should be split into.\n",
    "        \"\"\"\n",
    "        self.n_splits = n_splits\n",
    "    \n",
    "    def get_n_splits(self, x=None, y=None, groups=None):\n",
    "        \"\"\"\n",
    "        Returns the number of splits.\n",
    "        Parameters:\n",
    "        x, y, groups: These parameters are not used in this method, but are provided for compatibility with other similar tools.\n",
    "        Returns:\n",
    "        int, the number of splits.\n",
    "        \"\"\"\n",
    "        return self.n_splits\n",
    "    \n",
    "    def split(self, x, y=None, groups=None):\n",
    "        \"\"\"\n",
    "        Generates indices for training and test sets based on the provided data.\n",
    "        Parameters:\n",
    "        x: array-like, feature dataset.\n",
    "        y: array-like, target dataset, optional; if provided, ensures that the y values are split together with x.\n",
    "        groups: Not used in this implementation, included only for interface compatibility.\n",
    "        \n",
    "        Returns:\n",
    "        result: list of tuples, containing the training and test data indices for each split.\n",
    "        \"\"\"\n",
    "        result = []\n",
    "        if y is None:\n",
    "            # If y is not provided, split based on x only.\n",
    "            folds = np.array_split(x, self.n_splits)\n",
    "            \n",
    "            for i in range(self.n_splits):\n",
    "                train = folds.copy()\n",
    "                test = [folds[i]]\n",
    "                del train[i]  # Remove the test set portion\n",
    "                # Concatenate the training and test sets\n",
    "                result.append((np.concatenate(train), np.concatenate(test)))\n",
    "        else:\n",
    "            # If y is provided, ensure that x and y are split together.\n",
    "            xAndY = np.hstack((x, y.reshape(y.shape[0], 1)))  # Add y as the last column to x\n",
    "            \n",
    "            folds = np.array_split(xAndY, self.n_splits)\n",
    "            \n",
    "            for i in range(self.n_splits):\n",
    "                train = folds.copy()\n",
    "                test = [folds[i]]\n",
    "                del train[i]\n",
    "                # Split the training and test sets, and ensure that x and y parts are returned separately\n",
    "                result.append((\n",
    "                    np.concatenate(train)[:, :-1],  # x part of the training set\n",
    "                    np.concatenate(test)[:, :-1],   # x part of the test set\n",
    "                    np.concatenate(train)[:, -1:],  # y part of the training set\n",
    "                    np.concatenate(test)[:, -1:]    # y part of the test set\n",
    "                ))\n",
    "                \n",
    "        return result\n"
   ]
  },
  {
   "cell_type": "code",
   "execution_count": 10,
   "id": "c3f197d8",
   "metadata": {},
   "outputs": [],
   "source": [
    "t1 = np.array(range(1,36)).reshape(7,5)\n",
    "# t1"
   ]
  },
  {
   "cell_type": "code",
   "execution_count": 11,
   "id": "71a05358",
   "metadata": {},
   "outputs": [],
   "source": [
    "t1_x = t1[:,:-1]\n",
    "# t1_x"
   ]
  },
  {
   "cell_type": "code",
   "execution_count": 12,
   "id": "4f8094ca",
   "metadata": {},
   "outputs": [],
   "source": [
    "t1_y = t1[:,-1:]\n",
    "# t1_y"
   ]
  },
  {
   "cell_type": "code",
   "execution_count": 13,
   "id": "c786d1ee",
   "metadata": {},
   "outputs": [],
   "source": [
    "kf1 = LFold(5)\n",
    "result1 = kf1.split(t1_x,t1_y)\n",
    "# result1"
   ]
  },
  {
   "cell_type": "code",
   "execution_count": 14,
   "id": "edfd5d0d",
   "metadata": {},
   "outputs": [],
   "source": [
    "kf = LFold(10)\n",
    "result = kf.split(diabetes.data, diabetes.target)"
   ]
  },
  {
   "cell_type": "code",
   "execution_count": 15,
   "id": "ac7ae8db",
   "metadata": {},
   "outputs": [
    {
     "name": "stdout",
     "output_type": "stream",
     "text": [
      "0 --->: 4\n",
      "1 --->: 4\n",
      "2 --->: 4\n",
      "3 --->: 4\n",
      "4 --->: 4\n",
      "5 --->: 4\n",
      "6 --->: 4\n",
      "7 --->: 4\n",
      "8 --->: 4\n",
      "9 --->: 4\n"
     ]
    }
   ],
   "source": [
    "for index,each in enumerate(result):\n",
    "    print(index, \"--->:\", len(each))"
   ]
  },
  {
   "cell_type": "code",
   "execution_count": 16,
   "id": "fdbca12e",
   "metadata": {},
   "outputs": [
    {
     "data": {
      "text/plain": [
       "10"
      ]
     },
     "execution_count": 16,
     "metadata": {},
     "output_type": "execute_result"
    }
   ],
   "source": [
    "kf.get_n_splits()"
   ]
  },
  {
   "cell_type": "code",
   "execution_count": 17,
   "id": "ff89d2ea",
   "metadata": {},
   "outputs": [
    {
     "name": "stdout",
     "output_type": "stream",
     "text": [
      "(397, 10) ---->  (45, 10) (397, 1) ---->  (45, 1)\n",
      "(397, 10) ---->  (45, 10) (397, 1) ---->  (45, 1)\n",
      "(398, 10) ---->  (44, 10) (398, 1) ---->  (44, 1)\n",
      "(398, 10) ---->  (44, 10) (398, 1) ---->  (44, 1)\n",
      "(398, 10) ---->  (44, 10) (398, 1) ---->  (44, 1)\n",
      "(398, 10) ---->  (44, 10) (398, 1) ---->  (44, 1)\n",
      "(398, 10) ---->  (44, 10) (398, 1) ---->  (44, 1)\n",
      "(398, 10) ---->  (44, 10) (398, 1) ---->  (44, 1)\n",
      "(398, 10) ---->  (44, 10) (398, 1) ---->  (44, 1)\n",
      "(398, 10) ---->  (44, 10) (398, 1) ---->  (44, 1)\n"
     ]
    }
   ],
   "source": [
    "for x_train, x_test, y_train, y_test in result:\n",
    "    print(x_train.shape, \"----> \", x_test.shape, y_train.shape, \"----> \", y_test.shape)"
   ]
  },
  {
   "cell_type": "code",
   "execution_count": 18,
   "id": "b7d93f96",
   "metadata": {},
   "outputs": [
    {
     "name": "stdout",
     "output_type": "stream",
     "text": [
      "[ 4  5  6  7  8  9 10 11 12 13 14 15 16 17 18 19] [0 1 2 3]\n",
      "[ 0  1  2  3  8  9 10 11 12 13 14 15 16 17 18 19] [4 5 6 7]\n",
      "[ 0  1  2  3  4  5  6  7 12 13 14 15 16 17 18 19] [ 8  9 10 11]\n",
      "[ 0  1  2  3  4  5  6  7  8  9 10 11 16 17 18 19] [12 13 14 15]\n",
      "[ 0  1  2  3  4  5  6  7  8  9 10 11 12 13 14 15] [16 17 18 19]\n"
     ]
    }
   ],
   "source": [
    "for idx_train, idx_test in LFold(5).split(list(range(20))):\n",
    "    print(idx_train, idx_test)"
   ]
  },
  {
   "cell_type": "code",
   "execution_count": 19,
   "id": "fa8789c3",
   "metadata": {},
   "outputs": [],
   "source": [
    "folds = np.array_split(list(range(20)), 5)\n",
    "# folds"
   ]
  },
  {
   "cell_type": "code",
   "execution_count": 20,
   "id": "0667cb5d",
   "metadata": {},
   "outputs": [],
   "source": [
    "result = []\n",
    "for i in range(5):\n",
    "    train = folds.copy()\n",
    "    test = [folds[i]]\n",
    "    del train[i]\n",
    "    result.append((np.concatenate(train),np.concatenate(test)))"
   ]
  },
  {
   "cell_type": "code",
   "execution_count": 21,
   "id": "d4ac047e",
   "metadata": {},
   "outputs": [
    {
     "data": {
      "text/plain": [
       "(442, 10)"
      ]
     },
     "execution_count": 21,
     "metadata": {},
     "output_type": "execute_result"
    }
   ],
   "source": [
    "diabetes.data.shape"
   ]
  },
  {
   "cell_type": "code",
   "execution_count": 22,
   "id": "4bf5556f",
   "metadata": {},
   "outputs": [
    {
     "data": {
      "text/plain": [
       "(442, 1)"
      ]
     },
     "execution_count": 22,
     "metadata": {},
     "output_type": "execute_result"
    }
   ],
   "source": [
    "diabetes.target.reshape(diabetes.target.shape[0],1).shape"
   ]
  },
  {
   "cell_type": "code",
   "execution_count": 23,
   "id": "1ce51151",
   "metadata": {},
   "outputs": [
    {
     "data": {
      "text/plain": [
       "array([[ 3.80759064e-02,  5.06801187e-02,  6.16962065e-02, ...,\n",
       "         1.99074862e-02, -1.76461252e-02,  1.51000000e+02],\n",
       "       [-1.88201653e-03, -4.46416365e-02, -5.14740612e-02, ...,\n",
       "        -6.83315471e-02, -9.22040496e-02,  7.50000000e+01],\n",
       "       [ 8.52989063e-02,  5.06801187e-02,  4.44512133e-02, ...,\n",
       "         2.86130929e-03, -2.59303390e-02,  1.41000000e+02],\n",
       "       ...,\n",
       "       [ 4.17084449e-02,  5.06801187e-02, -1.59062628e-02, ...,\n",
       "        -4.68825342e-02,  1.54907302e-02,  1.32000000e+02],\n",
       "       [-4.54724779e-02, -4.46416365e-02,  3.90621530e-02, ...,\n",
       "         4.45287288e-02, -2.59303390e-02,  2.20000000e+02],\n",
       "       [-4.54724779e-02, -4.46416365e-02, -7.30303027e-02, ...,\n",
       "        -4.22151394e-03,  3.06440941e-03,  5.70000000e+01]])"
      ]
     },
     "execution_count": 23,
     "metadata": {},
     "output_type": "execute_result"
    }
   ],
   "source": [
    "np.hstack((diabetes.data, diabetes.target.reshape(diabetes.target.shape[0],1)))"
   ]
  },
  {
   "cell_type": "code",
   "execution_count": 24,
   "id": "f771ee62",
   "metadata": {},
   "outputs": [
    {
     "data": {
      "text/plain": [
       "(442, 11)"
      ]
     },
     "execution_count": 24,
     "metadata": {},
     "output_type": "execute_result"
    }
   ],
   "source": [
    "np.hstack((diabetes.data, diabetes.target.reshape(diabetes.target.shape[0],1))).shape"
   ]
  },
  {
   "cell_type": "code",
   "execution_count": 25,
   "id": "bed341a9",
   "metadata": {},
   "outputs": [
    {
     "data": {
      "text/plain": [
       "array([[ 3.80759064e-02,  5.06801187e-02,  6.16962065e-02, ...,\n",
       "         1.99074862e-02, -1.76461252e-02,  1.51000000e+02],\n",
       "       [-1.88201653e-03, -4.46416365e-02, -5.14740612e-02, ...,\n",
       "        -6.83315471e-02, -9.22040496e-02,  7.50000000e+01],\n",
       "       [ 8.52989063e-02,  5.06801187e-02,  4.44512133e-02, ...,\n",
       "         2.86130929e-03, -2.59303390e-02,  1.41000000e+02],\n",
       "       ...,\n",
       "       [ 4.17084449e-02,  5.06801187e-02, -1.59062628e-02, ...,\n",
       "        -4.68825342e-02,  1.54907302e-02,  1.32000000e+02],\n",
       "       [-4.54724779e-02, -4.46416365e-02,  3.90621530e-02, ...,\n",
       "         4.45287288e-02, -2.59303390e-02,  2.20000000e+02],\n",
       "       [-4.54724779e-02, -4.46416365e-02, -7.30303027e-02, ...,\n",
       "        -4.22151394e-03,  3.06440941e-03,  5.70000000e+01]])"
      ]
     },
     "execution_count": 25,
     "metadata": {},
     "output_type": "execute_result"
    }
   ],
   "source": [
    "xplusy = np.hstack((diabetes.data, diabetes.target.reshape(diabetes.target.shape[0],1)))\n",
    "xplusy"
   ]
  },
  {
   "cell_type": "code",
   "execution_count": 26,
   "id": "7e2b0726",
   "metadata": {},
   "outputs": [
    {
     "data": {
      "text/plain": [
       "(442, 11)"
      ]
     },
     "execution_count": 26,
     "metadata": {},
     "output_type": "execute_result"
    }
   ],
   "source": [
    "xplusy.shape"
   ]
  },
  {
   "cell_type": "code",
   "execution_count": 27,
   "id": "af7b6596",
   "metadata": {},
   "outputs": [
    {
     "data": {
      "text/plain": [
       "(442, 10)"
      ]
     },
     "execution_count": 27,
     "metadata": {},
     "output_type": "execute_result"
    }
   ],
   "source": [
    "xplusy[:,:-1].shape"
   ]
  },
  {
   "cell_type": "code",
   "execution_count": 28,
   "id": "a9a3e1ec",
   "metadata": {},
   "outputs": [
    {
     "data": {
      "text/plain": [
       "(442,)"
      ]
     },
     "execution_count": 28,
     "metadata": {},
     "output_type": "execute_result"
    }
   ],
   "source": [
    "xplusy[:,-1].shape"
   ]
  },
  {
   "cell_type": "code",
   "execution_count": 29,
   "id": "10fe556a",
   "metadata": {},
   "outputs": [
    {
     "data": {
      "text/plain": [
       "array([151.,  75., 141., 206., 135.,  97., 138.,  63., 110., 310., 101.,\n",
       "        69., 179., 185., 118., 171., 166., 144.,  97., 168.,  68.,  49.,\n",
       "        68., 245., 184., 202., 137.,  85., 131., 283., 129.,  59., 341.,\n",
       "        87.,  65., 102., 265., 276., 252.,  90., 100.,  55.,  61.,  92.,\n",
       "       259.,  53., 190., 142.,  75., 142., 155., 225.,  59., 104., 182.,\n",
       "       128.,  52.,  37., 170., 170.,  61., 144.,  52., 128.,  71., 163.,\n",
       "       150.,  97., 160., 178.,  48., 270., 202., 111.,  85.,  42., 170.,\n",
       "       200., 252., 113., 143.,  51.,  52., 210.,  65., 141.,  55., 134.,\n",
       "        42., 111.,  98., 164.,  48.,  96.,  90., 162., 150., 279.,  92.,\n",
       "        83., 128., 102., 302., 198.,  95.,  53., 134., 144., 232.,  81.,\n",
       "       104.,  59., 246., 297., 258., 229., 275., 281., 179., 200., 200.,\n",
       "       173., 180.,  84., 121., 161.,  99., 109., 115., 268., 274., 158.,\n",
       "       107.,  83., 103., 272.,  85., 280., 336., 281., 118., 317., 235.,\n",
       "        60., 174., 259., 178., 128.,  96., 126., 288.,  88., 292.,  71.,\n",
       "       197., 186.,  25.,  84.,  96., 195.,  53., 217., 172., 131., 214.,\n",
       "        59.,  70., 220., 268., 152.,  47.,  74., 295., 101., 151., 127.,\n",
       "       237., 225.,  81., 151., 107.,  64., 138., 185., 265., 101., 137.,\n",
       "       143., 141.,  79., 292., 178.,  91., 116.,  86., 122.,  72., 129.,\n",
       "       142.,  90., 158.,  39., 196., 222., 277.,  99., 196., 202., 155.,\n",
       "        77., 191.,  70.,  73.,  49.,  65., 263., 248., 296., 214., 185.,\n",
       "        78.,  93., 252., 150.,  77., 208.,  77., 108., 160.,  53., 220.,\n",
       "       154., 259.,  90., 246., 124.,  67.,  72., 257., 262., 275., 177.,\n",
       "        71.,  47., 187., 125.,  78.,  51., 258., 215., 303., 243.,  91.,\n",
       "       150., 310., 153., 346.,  63.,  89.,  50.,  39., 103., 308., 116.,\n",
       "       145.,  74.,  45., 115., 264.,  87., 202., 127., 182., 241.,  66.,\n",
       "        94., 283.,  64., 102., 200., 265.,  94., 230., 181., 156., 233.,\n",
       "        60., 219.,  80.,  68., 332., 248.,  84., 200.,  55.,  85.,  89.,\n",
       "        31., 129.,  83., 275.,  65., 198., 236., 253., 124.,  44., 172.,\n",
       "       114., 142., 109., 180., 144., 163., 147.,  97., 220., 190., 109.,\n",
       "       191., 122., 230., 242., 248., 249., 192., 131., 237.,  78., 135.,\n",
       "       244., 199., 270., 164.,  72.,  96., 306.,  91., 214.,  95., 216.,\n",
       "       263., 178., 113., 200., 139., 139.,  88., 148.,  88., 243.,  71.,\n",
       "        77., 109., 272.,  60.,  54., 221.,  90., 311., 281., 182., 321.,\n",
       "        58., 262., 206., 233., 242., 123., 167.,  63., 197.,  71., 168.,\n",
       "       140., 217., 121., 235., 245.,  40.,  52., 104., 132.,  88.,  69.,\n",
       "       219.,  72., 201., 110.,  51., 277.,  63., 118.,  69., 273., 258.,\n",
       "        43., 198., 242., 232., 175.,  93., 168., 275., 293., 281.,  72.,\n",
       "       140., 189., 181., 209., 136., 261., 113., 131., 174., 257.,  55.,\n",
       "        84.,  42., 146., 212., 233.,  91., 111., 152., 120.,  67., 310.,\n",
       "        94., 183.,  66., 173.,  72.,  49.,  64.,  48., 178., 104., 132.,\n",
       "       220.,  57.])"
      ]
     },
     "execution_count": 29,
     "metadata": {},
     "output_type": "execute_result"
    }
   ],
   "source": [
    "xplusy[:,-1]"
   ]
  },
  {
   "cell_type": "code",
   "execution_count": 30,
   "id": "2e1c79b5",
   "metadata": {},
   "outputs": [
    {
     "data": {
      "text/plain": [
       "2.0"
      ]
     },
     "execution_count": 30,
     "metadata": {},
     "output_type": "execute_result"
    }
   ],
   "source": [
    "np.sqrt(4)"
   ]
  },
  {
   "cell_type": "code",
   "execution_count": 31,
   "id": "7e13e0b4",
   "metadata": {},
   "outputs": [
    {
     "data": {
      "text/plain": [
       "array([[117.66666667],\n",
       "       [225.        ],\n",
       "       [125.66666667],\n",
       "       [ 72.66666667],\n",
       "       [121.        ],\n",
       "       [222.66666667],\n",
       "       [151.        ],\n",
       "       [234.66666667],\n",
       "       [116.        ],\n",
       "       [134.        ],\n",
       "       [184.        ],\n",
       "       [185.33333333],\n",
       "       [184.        ],\n",
       "       [157.66666667],\n",
       "       [232.33333333],\n",
       "       [120.33333333],\n",
       "       [157.66666667],\n",
       "       [158.33333333],\n",
       "       [219.66666667],\n",
       "       [126.33333333],\n",
       "       [131.33333333],\n",
       "       [101.        ],\n",
       "       [136.66666667],\n",
       "       [201.        ],\n",
       "       [184.66666667],\n",
       "       [208.66666667],\n",
       "       [148.33333333],\n",
       "       [109.        ],\n",
       "       [189.66666667],\n",
       "       [166.33333333],\n",
       "       [289.66666667],\n",
       "       [ 63.66666667],\n",
       "       [153.66666667],\n",
       "       [175.66666667],\n",
       "       [232.33333333],\n",
       "       [ 89.        ],\n",
       "       [114.        ],\n",
       "       [116.66666667],\n",
       "       [ 67.66666667],\n",
       "       [123.33333333],\n",
       "       [153.        ],\n",
       "       [109.33333333],\n",
       "       [116.66666667],\n",
       "       [ 92.        ]])"
      ]
     },
     "execution_count": 31,
     "metadata": {},
     "output_type": "execute_result"
    }
   ],
   "source": [
    "knn = KnnRegression(k=3)\n",
    "knn.fit(x_train, y_train)\n",
    "y_hat_test = knn.predict(x_test)\n",
    "y_hat_test"
   ]
  },
  {
   "cell_type": "markdown",
   "id": "630481a1",
   "metadata": {},
   "source": [
    "# 2.2 Test the effect of the KNN parameter K and compute the mean and standard deviation of the mean squared error (training and test) across the L folds and report the K for which you found the best test performance."
   ]
  },
  {
   "cell_type": "code",
   "execution_count": 32,
   "id": "837fc735",
   "metadata": {},
   "outputs": [],
   "source": [
    "def runKnn(kvalue, x_train, x_test, y_train, y_test):\n",
    "    \"\"\"\n",
    "    Run KNN regression analysis and calculate the mean squared error (MSE) for the training and test data.\n",
    "    \n",
    "    Parameters:\n",
    "    k_value : int\n",
    "        The number of neighbors to use for the KNN regressor.\n",
    "    x_train : np.ndarray\n",
    "        The features of the training dataset.\n",
    "    x_test : np.ndarray\n",
    "        The features of the test dataset.\n",
    "    y_train : np.ndarray\n",
    "        The target values of the training dataset.\n",
    "    y_test : np.ndarray\n",
    "        The target values of the test dataset.\n",
    "        \n",
    "    Returns:\n",
    "    Tuple[float, float]\n",
    "        The MSE for the training and test datasets.\n",
    "    \"\"\"\n",
    "    # Create an instance of the KNN regression model\n",
    "    knn = KnnRegression(k=kvalue)\n",
    "    # Train the model\n",
    "    knn.fit(x_train, y_train)\n",
    "    # Make predictions on the training and test datasets\n",
    "    y_hat_test = knn.predict(x_test)\n",
    "    y_hat_train = knn.predict(x_train)\n",
    "    # Calculate and return the MSE\n",
    "    return MSE(y_train, y_hat_train), MSE(y_test, y_hat_test)\n"
   ]
  },
  {
   "cell_type": "code",
   "execution_count": 33,
   "id": "c28f5e01",
   "metadata": {},
   "outputs": [],
   "source": [
    "df = pd.DataFrame(columns = [\"KValue\",\"LFoldID\",\"MSE_train\",\"MSE_test\"])\n",
    "# df"
   ]
  },
  {
   "cell_type": "code",
   "execution_count": 34,
   "id": "4e5ac80a",
   "metadata": {},
   "outputs": [],
   "source": [
    "N_SPLITS = 5\n",
    "kf = LFold(n_splits = N_SPLITS)\n",
    "max_epoch_k = 30\n",
    "\n",
    "count=0\n",
    "for k in range(1, max_epoch_k+1):\n",
    "    for fold_value, each in enumerate(kf.split(diabetes.data,diabetes.target)):\n",
    "        mse_train, mse_test = runKnn(k, each[0], each[1], each[2].reshape(-1), each[3].reshape(-1) )\n",
    "        df.at[count, \"KValue\"] = k\n",
    "        df.at[count, \"LFoldID\"] = fold_value\n",
    "        df.at[count, \"MSE_train\"] = mse_train\n",
    "        df.at[count, \"MSE_test\"] = mse_test\n",
    "        count+=1"
   ]
  },
  {
   "cell_type": "code",
   "execution_count": 35,
   "id": "3575ff9c",
   "metadata": {},
   "outputs": [],
   "source": [
    "def run_knn_lfold_cv(data, target):\n",
    "    N_SPLITS = 5\n",
    "    kf = LFold(n_splits=N_SPLITS)\n",
    "    max_epoch_k = 30\n",
    "\n",
    "    new_rows = []\n",
    "\n",
    "    for k in range(1, max_epoch_k + 1):\n",
    "        for fold_value, (train_X, test_X, train_y, test_y) in enumerate(kf.split(data, target)):\n",
    "            mse_train, mse_test = runKnn(k, train_X, test_X, train_y, test_y)\n",
    "\n",
    "            # Create a dictionary for a new row and add it to the list\n",
    "            new_row = {\n",
    "                \"KValue\": k,\n",
    "                \"LFoldID\": fold_value,\n",
    "                \"MSE_train\": mse_train,\n",
    "                \"MSE_test\": mse_test\n",
    "            }\n",
    "            new_rows.append(new_row)\n",
    "\n",
    "    # After the loop ends, convert all data into a DataFrame\n",
    "    results = pd.DataFrame(new_rows)\n",
    "    print(results)\n",
    "    return results"
   ]
  },
  {
   "cell_type": "code",
   "execution_count": 36,
   "id": "40fd53c8",
   "metadata": {
    "scrolled": false
   },
   "outputs": [
    {
     "data": {
      "text/html": [
       "<div>\n",
       "<style scoped>\n",
       "    .dataframe tbody tr th:only-of-type {\n",
       "        vertical-align: middle;\n",
       "    }\n",
       "\n",
       "    .dataframe tbody tr th {\n",
       "        vertical-align: top;\n",
       "    }\n",
       "\n",
       "    .dataframe thead tr th {\n",
       "        text-align: left;\n",
       "    }\n",
       "\n",
       "    .dataframe thead tr:last-of-type th {\n",
       "        text-align: right;\n",
       "    }\n",
       "</style>\n",
       "<table border=\"1\" class=\"dataframe\">\n",
       "  <thead>\n",
       "    <tr>\n",
       "      <th></th>\n",
       "      <th>MSE_train</th>\n",
       "      <th>MSE_test</th>\n",
       "    </tr>\n",
       "    <tr>\n",
       "      <th></th>\n",
       "      <th>mean</th>\n",
       "      <th>mean</th>\n",
       "    </tr>\n",
       "    <tr>\n",
       "      <th>KValue</th>\n",
       "      <th></th>\n",
       "      <th></th>\n",
       "    </tr>\n",
       "  </thead>\n",
       "  <tbody>\n",
       "    <tr>\n",
       "      <th>1</th>\n",
       "      <td>0.000000</td>\n",
       "      <td>5446.774745</td>\n",
       "    </tr>\n",
       "    <tr>\n",
       "      <th>2</th>\n",
       "      <td>1529.635023</td>\n",
       "      <td>4225.125843</td>\n",
       "    </tr>\n",
       "    <tr>\n",
       "      <th>3</th>\n",
       "      <td>2022.684618</td>\n",
       "      <td>4033.731069</td>\n",
       "    </tr>\n",
       "    <tr>\n",
       "      <th>4</th>\n",
       "      <td>2257.827505</td>\n",
       "      <td>3667.087510</td>\n",
       "    </tr>\n",
       "    <tr>\n",
       "      <th>5</th>\n",
       "      <td>2439.041247</td>\n",
       "      <td>3620.916153</td>\n",
       "    </tr>\n",
       "    <tr>\n",
       "      <th>6</th>\n",
       "      <td>2578.053556</td>\n",
       "      <td>3528.184564</td>\n",
       "    </tr>\n",
       "    <tr>\n",
       "      <th>7</th>\n",
       "      <td>2614.386598</td>\n",
       "      <td>3501.636721</td>\n",
       "    </tr>\n",
       "    <tr>\n",
       "      <th>8</th>\n",
       "      <td>2664.935453</td>\n",
       "      <td>3396.995571</td>\n",
       "    </tr>\n",
       "    <tr>\n",
       "      <th>9</th>\n",
       "      <td>2757.155919</td>\n",
       "      <td>3290.429905</td>\n",
       "    </tr>\n",
       "    <tr>\n",
       "      <th>10</th>\n",
       "      <td>2786.349830</td>\n",
       "      <td>3308.644737</td>\n",
       "    </tr>\n",
       "    <tr>\n",
       "      <th>11</th>\n",
       "      <td>2828.276758</td>\n",
       "      <td>3246.181537</td>\n",
       "    </tr>\n",
       "    <tr>\n",
       "      <th>12</th>\n",
       "      <td>2832.415130</td>\n",
       "      <td>3239.139229</td>\n",
       "    </tr>\n",
       "    <tr>\n",
       "      <th>13</th>\n",
       "      <td>2853.051704</td>\n",
       "      <td>3241.755089</td>\n",
       "    </tr>\n",
       "    <tr>\n",
       "      <th>14</th>\n",
       "      <td>2879.996137</td>\n",
       "      <td>3190.879566</td>\n",
       "    </tr>\n",
       "    <tr>\n",
       "      <th>15</th>\n",
       "      <td>2883.886253</td>\n",
       "      <td>3187.566736</td>\n",
       "    </tr>\n",
       "    <tr>\n",
       "      <th>16</th>\n",
       "      <td>2919.061433</td>\n",
       "      <td>3184.469316</td>\n",
       "    </tr>\n",
       "    <tr>\n",
       "      <th>17</th>\n",
       "      <td>2926.281467</td>\n",
       "      <td>3200.877790</td>\n",
       "    </tr>\n",
       "    <tr>\n",
       "      <th>18</th>\n",
       "      <td>2935.353322</td>\n",
       "      <td>3205.367503</td>\n",
       "    </tr>\n",
       "    <tr>\n",
       "      <th>19</th>\n",
       "      <td>2956.983317</td>\n",
       "      <td>3172.375002</td>\n",
       "    </tr>\n",
       "    <tr>\n",
       "      <th>20</th>\n",
       "      <td>2972.327997</td>\n",
       "      <td>3177.686714</td>\n",
       "    </tr>\n",
       "    <tr>\n",
       "      <th>21</th>\n",
       "      <td>2982.968076</td>\n",
       "      <td>3215.888145</td>\n",
       "    </tr>\n",
       "    <tr>\n",
       "      <th>22</th>\n",
       "      <td>3004.950388</td>\n",
       "      <td>3199.254418</td>\n",
       "    </tr>\n",
       "    <tr>\n",
       "      <th>23</th>\n",
       "      <td>3019.283380</td>\n",
       "      <td>3218.655518</td>\n",
       "    </tr>\n",
       "    <tr>\n",
       "      <th>24</th>\n",
       "      <td>3032.748256</td>\n",
       "      <td>3205.673022</td>\n",
       "    </tr>\n",
       "    <tr>\n",
       "      <th>25</th>\n",
       "      <td>3046.514331</td>\n",
       "      <td>3229.024403</td>\n",
       "    </tr>\n",
       "    <tr>\n",
       "      <th>26</th>\n",
       "      <td>3063.514646</td>\n",
       "      <td>3248.260317</td>\n",
       "    </tr>\n",
       "    <tr>\n",
       "      <th>27</th>\n",
       "      <td>3080.153869</td>\n",
       "      <td>3259.048079</td>\n",
       "    </tr>\n",
       "    <tr>\n",
       "      <th>28</th>\n",
       "      <td>3093.640461</td>\n",
       "      <td>3256.588160</td>\n",
       "    </tr>\n",
       "    <tr>\n",
       "      <th>29</th>\n",
       "      <td>3118.842310</td>\n",
       "      <td>3251.911685</td>\n",
       "    </tr>\n",
       "    <tr>\n",
       "      <th>30</th>\n",
       "      <td>3138.162089</td>\n",
       "      <td>3282.761545</td>\n",
       "    </tr>\n",
       "  </tbody>\n",
       "</table>\n",
       "</div>"
      ],
      "text/plain": [
       "          MSE_train     MSE_test\n",
       "               mean         mean\n",
       "KValue                          \n",
       "1          0.000000  5446.774745\n",
       "2       1529.635023  4225.125843\n",
       "3       2022.684618  4033.731069\n",
       "4       2257.827505  3667.087510\n",
       "5       2439.041247  3620.916153\n",
       "6       2578.053556  3528.184564\n",
       "7       2614.386598  3501.636721\n",
       "8       2664.935453  3396.995571\n",
       "9       2757.155919  3290.429905\n",
       "10      2786.349830  3308.644737\n",
       "11      2828.276758  3246.181537\n",
       "12      2832.415130  3239.139229\n",
       "13      2853.051704  3241.755089\n",
       "14      2879.996137  3190.879566\n",
       "15      2883.886253  3187.566736\n",
       "16      2919.061433  3184.469316\n",
       "17      2926.281467  3200.877790\n",
       "18      2935.353322  3205.367503\n",
       "19      2956.983317  3172.375002\n",
       "20      2972.327997  3177.686714\n",
       "21      2982.968076  3215.888145\n",
       "22      3004.950388  3199.254418\n",
       "23      3019.283380  3218.655518\n",
       "24      3032.748256  3205.673022\n",
       "25      3046.514331  3229.024403\n",
       "26      3063.514646  3248.260317\n",
       "27      3080.153869  3259.048079\n",
       "28      3093.640461  3256.588160\n",
       "29      3118.842310  3251.911685\n",
       "30      3138.162089  3282.761545"
      ]
     },
     "execution_count": 36,
     "metadata": {},
     "output_type": "execute_result"
    }
   ],
   "source": [
    "df_k_mean = df.groupby('KValue').agg({'MSE_train': ['mean'], 'MSE_test': 'mean'})\n",
    "df_k_mean"
   ]
  },
  {
   "cell_type": "code",
   "execution_count": 37,
   "id": "92ed3a63",
   "metadata": {},
   "outputs": [
    {
     "name": "stdout",
     "output_type": "stream",
     "text": [
      "Best K value based on test performance: 19\n"
     ]
    }
   ],
   "source": [
    "best_k_value = df_k_mean[\"MSE_test\"].idxmin()\n",
    "print(f\"Best K value based on test performance: {best_k_value.item()}\")"
   ]
  },
  {
   "cell_type": "markdown",
   "id": "b65f0b58",
   "metadata": {},
   "source": [
    "## 2.3  Plot the mean training and test errors against the choice of K with error bars and comment"
   ]
  },
  {
   "cell_type": "code",
   "execution_count": 38,
   "id": "896cf1af",
   "metadata": {},
   "outputs": [
    {
     "data": {
      "image/png": "[encoded data removed]",
      "text/plain": [
       "<Figure size 800x400 with 2 Axes>"
      ]
     },
     "metadata": {},
     "output_type": "display_data"
    }
   ],
   "source": [
    "_, axs = plt.subplots(1, 2, figsize=(8, 4), tight_layout=True, sharey=True)\n",
    "ks = np.arange(1, max_epoch_k+1)\n",
    "axs[0].plot(ks, df_k_mean[\"MSE_test\"].values, label='test')\n",
    "axs[0].plot(ks, df_k_mean[\"MSE_train\"].values, label='train')\n",
    "axs[0].margins(x=0)\n",
    "axs[0].set_ylabel('mean square error')\n",
    "axs[0].set_xlabel('$k$')\n",
    "axs[0].legend()\n",
    "axs[1].plot(1/ks, df_k_mean[\"MSE_test\"])\n",
    "axs[1].plot(1/ks, df_k_mean[\"MSE_train\"])\n",
    "axs[1].margins(x=0)\n",
    "axs[1].set_xlabel('$1/k$')\n",
    "axs[1].set_xscale('log')\n",
    "plt.show()"
   ]
  },
  {
   "cell_type": "code",
   "execution_count": 39,
   "id": "e269cbb2",
   "metadata": {},
   "outputs": [
    {
     "data": {
      "text/plain": [
       "19"
      ]
     },
     "execution_count": 39,
     "metadata": {},
     "output_type": "execute_result"
    }
   ],
   "source": [
    "np.argmin(df_k_mean[\"MSE_test\"]) + 1 "
   ]
  },
  {
   "cell_type": "code",
   "execution_count": 40,
   "id": "0f2d4ba3",
   "metadata": {},
   "outputs": [
    {
     "data": {
      "text/plain": [
       "1"
      ]
     },
     "execution_count": 40,
     "metadata": {},
     "output_type": "execute_result"
    }
   ],
   "source": [
    "np.argmin(df_k_mean[\"MSE_train\"]) + 1 "
   ]
  },
  {
   "cell_type": "code",
   "execution_count": 41,
   "id": "a9cb2ef8",
   "metadata": {},
   "outputs": [
    {
     "data": {
      "text/plain": [
       "array([0.0, 0.0, 0.0, 0.0, 0.0], dtype=object)"
      ]
     },
     "execution_count": 41,
     "metadata": {},
     "output_type": "execute_result"
    }
   ],
   "source": [
    "df[df.KValue == 1][\"MSE_train\"].values"
   ]
  },
  {
   "cell_type": "code",
   "execution_count": 42,
   "id": "fb06bf7a",
   "metadata": {},
   "outputs": [
    {
     "data": {
      "text/plain": [
       "15    2417.057897\n",
       "16    2180.750531\n",
       "17    2298.985169\n",
       "18    2179.467867\n",
       "19    2212.876059\n",
       "Name: MSE_train, dtype: object"
      ]
     },
     "execution_count": 42,
     "metadata": {},
     "output_type": "execute_result"
    }
   ],
   "source": [
    "df[df.KValue == 4][\"MSE_train\"]"
   ]
  },
  {
   "cell_type": "code",
   "execution_count": 43,
   "id": "0034feca",
   "metadata": {},
   "outputs": [
    {
     "data": {
      "text/plain": [
       "90.71934319812902"
      ]
     },
     "execution_count": 43,
     "metadata": {},
     "output_type": "execute_result"
    }
   ],
   "source": [
    "np.std(df[df.KValue == 4][\"MSE_train\"])"
   ]
  },
  {
   "cell_type": "code",
   "execution_count": 44,
   "id": "977231ee",
   "metadata": {},
   "outputs": [
    {
     "data": {
      "text/plain": [
       "66.82017193435236"
      ]
     },
     "execution_count": 44,
     "metadata": {},
     "output_type": "execute_result"
    }
   ],
   "source": [
    "np.std(df[df.KValue == 2][\"MSE_train\"].values)"
   ]
  },
  {
   "cell_type": "code",
   "execution_count": 45,
   "id": "38ee6c35",
   "metadata": {},
   "outputs": [
    {
     "data": {
      "text/plain": [
       "66.82017193435236"
      ]
     },
     "execution_count": 45,
     "metadata": {},
     "output_type": "execute_result"
    }
   ],
   "source": [
    "np.std(df[df.KValue == 2][\"MSE_train\"].values)"
   ]
  },
  {
   "cell_type": "code",
   "execution_count": 46,
   "id": "c4d9d4f4",
   "metadata": {},
   "outputs": [],
   "source": [
    "stand_deviation_MSE_result_train = []\n",
    "stand_deviation_MSE_result_test = []\n",
    "for k in np.arange(1, max_epoch_k+1):\n",
    "    stand_deviation_MSE_result_train.append(np.std(df[df.KValue == k][\"MSE_train\"]))\n",
    "    stand_deviation_MSE_result_test.append(np.std(df[df.KValue == k][\"MSE_test\"]))"
   ]
  },
  {
   "cell_type": "code",
   "execution_count": 47,
   "id": "7676b225",
   "metadata": {},
   "outputs": [
    {
     "data": {
      "text/plain": [
       "[0.0,\n",
       " 66.82017193435236,\n",
       " 63.61475291595297,\n",
       " 90.71934319812902,\n",
       " 25.943655063266135,\n",
       " 55.76293310166167,\n",
       " 31.202597819966638,\n",
       " 50.650235743781,\n",
       " 77.5918677071594,\n",
       " 74.52733043183508,\n",
       " 74.63830989597214,\n",
       " 74.786543725659,\n",
       " 66.05839481154887,\n",
       " 71.29795463754378,\n",
       " 74.02797005678305,\n",
       " 79.91978402809265,\n",
       " 74.99269216471622,\n",
       " 67.63678731008375,\n",
       " 49.92730457933782,\n",
       " 49.878401671792,\n",
       " 55.403585236718854,\n",
       " 56.147795623304866,\n",
       " 56.42285022771519,\n",
       " 56.64094693890004,\n",
       " 51.08545496788924,\n",
       " 52.93797125070936,\n",
       " 67.1236279258309,\n",
       " 73.66527784195866,\n",
       " 76.78732823135914,\n",
       " 77.72507285489321]"
      ]
     },
     "execution_count": 47,
     "metadata": {},
     "output_type": "execute_result"
    }
   ],
   "source": [
    "stand_deviation_MSE_result_train"
   ]
  },
  {
   "cell_type": "code",
   "execution_count": 48,
   "id": "1ddcba3e",
   "metadata": {},
   "outputs": [
    {
     "data": {
      "text/plain": [
       "[851.3630114251172,\n",
       " 496.8746145198459,\n",
       " 446.7686880294412,\n",
       " 211.07412595898032,\n",
       " 286.61391962577613,\n",
       " 307.3462122563186,\n",
       " 304.24192649813585,\n",
       " 236.44394679769607,\n",
       " 195.10141307785923,\n",
       " 187.28724369817584,\n",
       " 247.63934562455594,\n",
       " 222.85141816985785,\n",
       " 215.34190493833046,\n",
       " 243.0116674635201,\n",
       " 238.56918590513257,\n",
       " 186.366579681874,\n",
       " 195.67065287706066,\n",
       " 197.0756341259397,\n",
       " 188.3470606113701,\n",
       " 199.66860389804955,\n",
       " 173.91943460701742,\n",
       " 191.27914054938353,\n",
       " 167.41619733393117,\n",
       " 171.38189793349673,\n",
       " 166.5671087695636,\n",
       " 173.26467404738798,\n",
       " 163.56867855995367,\n",
       " 174.20379122980555,\n",
       " 203.94086108924174,\n",
       " 207.0541870827887]"
      ]
     },
     "execution_count": 48,
     "metadata": {},
     "output_type": "execute_result"
    }
   ],
   "source": [
    "stand_deviation_MSE_result_test"
   ]
  },
  {
   "cell_type": "code",
   "execution_count": 49,
   "id": "40c755cd",
   "metadata": {},
   "outputs": [
    {
     "data": {
      "image/png": "[encoded data removed]",
      "text/plain": [
       "<Figure size 800x400 with 2 Axes>"
      ]
     },
     "metadata": {},
     "output_type": "display_data"
    }
   ],
   "source": [
    "_, axs = plt.subplots(1, 2, figsize=(8, 4), tight_layout=True, sharey=True)\n",
    "ks = np.arange(1, max_epoch_k+1)\n",
    "axs[0].plot(ks, stand_deviation_MSE_result_test, label='test')\n",
    "axs[0].plot(ks, stand_deviation_MSE_result_train, label='train')\n",
    "axs[0].margins(x=0)\n",
    "axs[0].set_ylabel('standard deviation of the mean squared error')\n",
    "axs[0].set_xlabel('$k$')\n",
    "axs[0].legend()\n",
    "axs[1].plot(1/ks, stand_deviation_MSE_result_test)\n",
    "axs[1].plot(1/ks, stand_deviation_MSE_result_train)\n",
    "axs[1].margins(x=0)\n",
    "axs[1].set_xlabel('$1/k$')\n",
    "axs[1].set_xscale('log')\n",
    "plt.show()"
   ]
  },
  {
   "cell_type": "markdown",
   "id": "d3c809c3",
   "metadata": {},
   "source": []
  },
  {
   "cell_type": "code",
   "execution_count": 50,
   "id": "c3093bc1",
   "metadata": {},
   "outputs": [
    {
     "data": {
      "text/plain": [
       "26"
      ]
     },
     "execution_count": 50,
     "metadata": {},
     "output_type": "execute_result"
    }
   ],
   "source": [
    "np.argmin(stand_deviation_MSE_result_test)"
   ]
  },
  {
   "cell_type": "code",
   "execution_count": 51,
   "id": "2224bcb7",
   "metadata": {},
   "outputs": [],
   "source": [
    "def STE(errorOverLfolds, L):\n",
    "    return 1.96*np.std(errorOverLfolds)/np.sqrt(L)"
   ]
  },
  {
   "cell_type": "code",
   "execution_count": 52,
   "id": "955a6627",
   "metadata": {},
   "outputs": [],
   "source": [
    "ste_result_train = []  # Initialize a list to store the standard error of training data for each k value\n",
    "ste_result_test = []  # Initialize a list to store the standard error of test data for each k value\n",
    "\n",
    "# Loop through each integer k from 1 to max_epoch_k, where max_epoch_k is the predefined maximum k value\n",
    "for k in np.arange(1, max_epoch_k + 1):\n",
    "    # Calculate and store the standard error for the training data\n",
    "    # df[df.KValue == k][\"MSE_train\"] selects the data in the MSE_train column of the dataframe df where the KValue column equals k\n",
    "    # The STE function is assumed to be a custom function for calculating the standard error, where the first parameter is the data, and the second parameter is the number of splits N_SPLITS\n",
    "    ste_result_train.append(STE(df[df.KValue == k][\"MSE_train\"], N_SPLITS))\n",
    "    \n",
    "    # Calculate and store the standard error for the test data\n",
    "    # df[df.KValue == k][\"MSE_test\"] selects the data in the MSE_test column of the dataframe df where the KValue column equals k\n",
    "    ste_result_test.append(STE(df[df.KValue == k][\"MSE_test\"], N_SPLITS))\n"
   ]
  },
  {
   "cell_type": "code",
   "execution_count": 53,
   "id": "c8c4f30d",
   "metadata": {},
   "outputs": [
    {
     "data": {
      "image/png": "[encoded data removed]",
      "text/plain": [
       "<Figure size 800x400 with 2 Axes>"
      ]
     },
     "metadata": {},
     "output_type": "display_data"
    }
   ],
   "source": [
    "# Create a subplot layout with 1 row and 2 columns, set the figure size to 8x4 inches, apply tight layout, and share the y-axis\n",
    "_, axs = plt.subplots(1, 2, figsize=(8, 4), tight_layout=True, sharey=True)\n",
    "\n",
    "ks = np.arange(1, max_epoch_k + 1)  # Create an array from 1 to max_epoch_k for varying k values\n",
    "\n",
    "# Plot the relationship between k values and the standard error of test data on the first subplot\n",
    "axs[0].plot(ks, ste_result_test, label='test')\n",
    "# Plot the relationship between k values and the standard error of training data on the first subplot\n",
    "axs[0].plot(ks, ste_result_train, label='train')\n",
    "axs[0].margins(x=0)  # Set the x-axis margins to zero to make the plot closer to the edges\n",
    "axs[0].set_ylabel('standard error of the means')  # Set the y-axis label\n",
    "axs[0].set_xlabel('$k$')  # Set the x-axis label\n",
    "axs[0].legend()  # Display the legend\n",
    "\n",
    "# Plot the relationship between 1/k and the standard error of test and training data on the second subplot\n",
    "axs[1].plot(1/ks, ste_result_test)  # Plot the relationship between 1/k and test data standard error\n",
    "axs[1].plot(1/ks, ste_result_train)  # Plot the relationship between 1/k and training data standard error\n",
    "axs[1].margins(x=0)  # Set the x-axis margins to zero\n",
    "\n",
    "# axs[1].set_xlabel('$1/k$')  # Set the x-axis label of the second subplot to 1/k\n",
    "# axs[1].set_xscale('log')  # Set the x-axis of the second subplot to a logarithmic scale\n",
    "\n",
    "plt.show()  # Display the plots\n"
   ]
  },
  {
   "cell_type": "code",
   "execution_count": 54,
   "id": "5ef74954",
   "metadata": {},
   "outputs": [
    {
     "data": {
      "text/plain": [
       "26"
      ]
     },
     "execution_count": 54,
     "metadata": {},
     "output_type": "execute_result"
    }
   ],
   "source": [
    "np.argmin(ste_result_test)"
   ]
  },
  {
   "cell_type": "code",
   "execution_count": 55,
   "id": "605978da",
   "metadata": {},
   "outputs": [
    {
     "data": {
      "text/plain": [
       "30"
      ]
     },
     "execution_count": 55,
     "metadata": {},
     "output_type": "execute_result"
    }
   ],
   "source": [
    "len(ste_result_test)"
   ]
  },
  {
   "cell_type": "code",
   "execution_count": 56,
   "id": "acea702c",
   "metadata": {},
   "outputs": [
    {
     "data": {
      "text/plain": [
       "(442, 10)"
      ]
     },
     "execution_count": 56,
     "metadata": {},
     "output_type": "execute_result"
    }
   ],
   "source": [
    "diabetes.data.shape"
   ]
  },
  {
   "cell_type": "code",
   "execution_count": 57,
   "id": "a6ba2a1f",
   "metadata": {},
   "outputs": [],
   "source": [
    "df_k_mean = df.groupby('KValue').agg({'MSE_train': ['mean'], 'MSE_test': 'mean'})"
   ]
  },
  {
   "cell_type": "code",
   "execution_count": 58,
   "id": "7d68462b",
   "metadata": {},
   "outputs": [
    {
     "data": {
      "text/html": [
       "<div>\n",
       "<style scoped>\n",
       "    .dataframe tbody tr th:only-of-type {\n",
       "        vertical-align: middle;\n",
       "    }\n",
       "\n",
       "    .dataframe tbody tr th {\n",
       "        vertical-align: top;\n",
       "    }\n",
       "\n",
       "    .dataframe thead tr th {\n",
       "        text-align: left;\n",
       "    }\n",
       "\n",
       "    .dataframe thead tr:last-of-type th {\n",
       "        text-align: right;\n",
       "    }\n",
       "</style>\n",
       "<table border=\"1\" class=\"dataframe\">\n",
       "  <thead>\n",
       "    <tr>\n",
       "      <th></th>\n",
       "      <th>MSE_train</th>\n",
       "      <th>MSE_test</th>\n",
       "    </tr>\n",
       "    <tr>\n",
       "      <th></th>\n",
       "      <th>mean</th>\n",
       "      <th>mean</th>\n",
       "    </tr>\n",
       "    <tr>\n",
       "      <th>KValue</th>\n",
       "      <th></th>\n",
       "      <th></th>\n",
       "    </tr>\n",
       "  </thead>\n",
       "  <tbody>\n",
       "    <tr>\n",
       "      <th>1</th>\n",
       "      <td>0.000000</td>\n",
       "      <td>5446.774745</td>\n",
       "    </tr>\n",
       "    <tr>\n",
       "      <th>2</th>\n",
       "      <td>1529.635023</td>\n",
       "      <td>4225.125843</td>\n",
       "    </tr>\n",
       "    <tr>\n",
       "      <th>3</th>\n",
       "      <td>2022.684618</td>\n",
       "      <td>4033.731069</td>\n",
       "    </tr>\n",
       "    <tr>\n",
       "      <th>4</th>\n",
       "      <td>2257.827505</td>\n",
       "      <td>3667.087510</td>\n",
       "    </tr>\n",
       "    <tr>\n",
       "      <th>5</th>\n",
       "      <td>2439.041247</td>\n",
       "      <td>3620.916153</td>\n",
       "    </tr>\n",
       "    <tr>\n",
       "      <th>6</th>\n",
       "      <td>2578.053556</td>\n",
       "      <td>3528.184564</td>\n",
       "    </tr>\n",
       "    <tr>\n",
       "      <th>7</th>\n",
       "      <td>2614.386598</td>\n",
       "      <td>3501.636721</td>\n",
       "    </tr>\n",
       "    <tr>\n",
       "      <th>8</th>\n",
       "      <td>2664.935453</td>\n",
       "      <td>3396.995571</td>\n",
       "    </tr>\n",
       "    <tr>\n",
       "      <th>9</th>\n",
       "      <td>2757.155919</td>\n",
       "      <td>3290.429905</td>\n",
       "    </tr>\n",
       "    <tr>\n",
       "      <th>10</th>\n",
       "      <td>2786.349830</td>\n",
       "      <td>3308.644737</td>\n",
       "    </tr>\n",
       "    <tr>\n",
       "      <th>11</th>\n",
       "      <td>2828.276758</td>\n",
       "      <td>3246.181537</td>\n",
       "    </tr>\n",
       "    <tr>\n",
       "      <th>12</th>\n",
       "      <td>2832.415130</td>\n",
       "      <td>3239.139229</td>\n",
       "    </tr>\n",
       "    <tr>\n",
       "      <th>13</th>\n",
       "      <td>2853.051704</td>\n",
       "      <td>3241.755089</td>\n",
       "    </tr>\n",
       "    <tr>\n",
       "      <th>14</th>\n",
       "      <td>2879.996137</td>\n",
       "      <td>3190.879566</td>\n",
       "    </tr>\n",
       "    <tr>\n",
       "      <th>15</th>\n",
       "      <td>2883.886253</td>\n",
       "      <td>3187.566736</td>\n",
       "    </tr>\n",
       "    <tr>\n",
       "      <th>16</th>\n",
       "      <td>2919.061433</td>\n",
       "      <td>3184.469316</td>\n",
       "    </tr>\n",
       "    <tr>\n",
       "      <th>17</th>\n",
       "      <td>2926.281467</td>\n",
       "      <td>3200.877790</td>\n",
       "    </tr>\n",
       "    <tr>\n",
       "      <th>18</th>\n",
       "      <td>2935.353322</td>\n",
       "      <td>3205.367503</td>\n",
       "    </tr>\n",
       "    <tr>\n",
       "      <th>19</th>\n",
       "      <td>2956.983317</td>\n",
       "      <td>3172.375002</td>\n",
       "    </tr>\n",
       "    <tr>\n",
       "      <th>20</th>\n",
       "      <td>2972.327997</td>\n",
       "      <td>3177.686714</td>\n",
       "    </tr>\n",
       "    <tr>\n",
       "      <th>21</th>\n",
       "      <td>2982.968076</td>\n",
       "      <td>3215.888145</td>\n",
       "    </tr>\n",
       "    <tr>\n",
       "      <th>22</th>\n",
       "      <td>3004.950388</td>\n",
       "      <td>3199.254418</td>\n",
       "    </tr>\n",
       "    <tr>\n",
       "      <th>23</th>\n",
       "      <td>3019.283380</td>\n",
       "      <td>3218.655518</td>\n",
       "    </tr>\n",
       "    <tr>\n",
       "      <th>24</th>\n",
       "      <td>3032.748256</td>\n",
       "      <td>3205.673022</td>\n",
       "    </tr>\n",
       "    <tr>\n",
       "      <th>25</th>\n",
       "      <td>3046.514331</td>\n",
       "      <td>3229.024403</td>\n",
       "    </tr>\n",
       "    <tr>\n",
       "      <th>26</th>\n",
       "      <td>3063.514646</td>\n",
       "      <td>3248.260317</td>\n",
       "    </tr>\n",
       "    <tr>\n",
       "      <th>27</th>\n",
       "      <td>3080.153869</td>\n",
       "      <td>3259.048079</td>\n",
       "    </tr>\n",
       "    <tr>\n",
       "      <th>28</th>\n",
       "      <td>3093.640461</td>\n",
       "      <td>3256.588160</td>\n",
       "    </tr>\n",
       "    <tr>\n",
       "      <th>29</th>\n",
       "      <td>3118.842310</td>\n",
       "      <td>3251.911685</td>\n",
       "    </tr>\n",
       "    <tr>\n",
       "      <th>30</th>\n",
       "      <td>3138.162089</td>\n",
       "      <td>3282.761545</td>\n",
       "    </tr>\n",
       "  </tbody>\n",
       "</table>\n",
       "</div>"
      ],
      "text/plain": [
       "          MSE_train     MSE_test\n",
       "               mean         mean\n",
       "KValue                          \n",
       "1          0.000000  5446.774745\n",
       "2       1529.635023  4225.125843\n",
       "3       2022.684618  4033.731069\n",
       "4       2257.827505  3667.087510\n",
       "5       2439.041247  3620.916153\n",
       "6       2578.053556  3528.184564\n",
       "7       2614.386598  3501.636721\n",
       "8       2664.935453  3396.995571\n",
       "9       2757.155919  3290.429905\n",
       "10      2786.349830  3308.644737\n",
       "11      2828.276758  3246.181537\n",
       "12      2832.415130  3239.139229\n",
       "13      2853.051704  3241.755089\n",
       "14      2879.996137  3190.879566\n",
       "15      2883.886253  3187.566736\n",
       "16      2919.061433  3184.469316\n",
       "17      2926.281467  3200.877790\n",
       "18      2935.353322  3205.367503\n",
       "19      2956.983317  3172.375002\n",
       "20      2972.327997  3177.686714\n",
       "21      2982.968076  3215.888145\n",
       "22      3004.950388  3199.254418\n",
       "23      3019.283380  3218.655518\n",
       "24      3032.748256  3205.673022\n",
       "25      3046.514331  3229.024403\n",
       "26      3063.514646  3248.260317\n",
       "27      3080.153869  3259.048079\n",
       "28      3093.640461  3256.588160\n",
       "29      3118.842310  3251.911685\n",
       "30      3138.162089  3282.761545"
      ]
     },
     "execution_count": 58,
     "metadata": {},
     "output_type": "execute_result"
    }
   ],
   "source": [
    "df_k_mean"
   ]
  },
  {
   "cell_type": "code",
   "execution_count": 59,
   "id": "e3cd36f8",
   "metadata": {},
   "outputs": [
    {
     "data": {
      "text/plain": [
       "19"
      ]
     },
     "execution_count": 59,
     "metadata": {},
     "output_type": "execute_result"
    }
   ],
   "source": [
    "np.argmin(df_k_mean[\"MSE_test\"]) + 1"
   ]
  },
  {
   "cell_type": "code",
   "execution_count": 60,
   "id": "449ca331",
   "metadata": {},
   "outputs": [
    {
     "data": {
      "text/html": [
       "<div>\n",
       "<style scoped>\n",
       "    .dataframe tbody tr th:only-of-type {\n",
       "        vertical-align: middle;\n",
       "    }\n",
       "\n",
       "    .dataframe tbody tr th {\n",
       "        vertical-align: top;\n",
       "    }\n",
       "\n",
       "    .dataframe thead th {\n",
       "        text-align: right;\n",
       "    }\n",
       "</style>\n",
       "<table border=\"1\" class=\"dataframe\">\n",
       "  <thead>\n",
       "    <tr style=\"text-align: right;\">\n",
       "      <th></th>\n",
       "      <th>K_value</th>\n",
       "      <th>L_value</th>\n",
       "      <th>MSE_train</th>\n",
       "      <th>MSE_test</th>\n",
       "    </tr>\n",
       "  </thead>\n",
       "  <tbody>\n",
       "    <tr>\n",
       "      <th>0</th>\n",
       "      <td>19</td>\n",
       "      <td>2</td>\n",
       "      <td>3083.802397</td>\n",
       "      <td>3239.395056</td>\n",
       "    </tr>\n",
       "    <tr>\n",
       "      <th>1</th>\n",
       "      <td>19</td>\n",
       "      <td>2</td>\n",
       "      <td>3239.615309</td>\n",
       "      <td>3381.798135</td>\n",
       "    </tr>\n",
       "    <tr>\n",
       "      <th>2</th>\n",
       "      <td>19</td>\n",
       "      <td>3</td>\n",
       "      <td>2987.330318</td>\n",
       "      <td>3298.574923</td>\n",
       "    </tr>\n",
       "    <tr>\n",
       "      <th>3</th>\n",
       "      <td>19</td>\n",
       "      <td>3</td>\n",
       "      <td>2886.307301</td>\n",
       "      <td>3573.496636</td>\n",
       "    </tr>\n",
       "    <tr>\n",
       "      <th>4</th>\n",
       "      <td>19</td>\n",
       "      <td>3</td>\n",
       "      <td>3194.583342</td>\n",
       "      <td>2779.019202</td>\n",
       "    </tr>\n",
       "    <tr>\n",
       "      <th>...</th>\n",
       "      <td>...</td>\n",
       "      <td>...</td>\n",
       "      <td>...</td>\n",
       "      <td>...</td>\n",
       "    </tr>\n",
       "    <tr>\n",
       "      <th>184</th>\n",
       "      <td>19</td>\n",
       "      <td>19</td>\n",
       "      <td>2892.863261</td>\n",
       "      <td>2681.836806</td>\n",
       "    </tr>\n",
       "    <tr>\n",
       "      <th>185</th>\n",
       "      <td>19</td>\n",
       "      <td>19</td>\n",
       "      <td>2893.811198</td>\n",
       "      <td>4008.410213</td>\n",
       "    </tr>\n",
       "    <tr>\n",
       "      <th>186</th>\n",
       "      <td>19</td>\n",
       "      <td>19</td>\n",
       "      <td>2838.822814</td>\n",
       "      <td>3737.118511</td>\n",
       "    </tr>\n",
       "    <tr>\n",
       "      <th>187</th>\n",
       "      <td>19</td>\n",
       "      <td>19</td>\n",
       "      <td>2919.322698</td>\n",
       "      <td>2627.855715</td>\n",
       "    </tr>\n",
       "    <tr>\n",
       "      <th>188</th>\n",
       "      <td>19</td>\n",
       "      <td>19</td>\n",
       "      <td>2948.847791</td>\n",
       "      <td>2010.317596</td>\n",
       "    </tr>\n",
       "  </tbody>\n",
       "</table>\n",
       "<p>189 rows × 4 columns</p>\n",
       "</div>"
      ],
      "text/plain": [
       "    K_value L_value    MSE_train     MSE_test\n",
       "0        19       2  3083.802397  3239.395056\n",
       "1        19       2  3239.615309  3381.798135\n",
       "2        19       3  2987.330318  3298.574923\n",
       "3        19       3  2886.307301  3573.496636\n",
       "4        19       3  3194.583342  2779.019202\n",
       "..      ...     ...          ...          ...\n",
       "184      19      19  2892.863261  2681.836806\n",
       "185      19      19  2893.811198  4008.410213\n",
       "186      19      19  2838.822814  3737.118511\n",
       "187      19      19  2919.322698  2627.855715\n",
       "188      19      19  2948.847791  2010.317596\n",
       "\n",
       "[189 rows x 4 columns]"
      ]
     },
     "execution_count": 60,
     "metadata": {},
     "output_type": "execute_result"
    }
   ],
   "source": [
    "# best_k = np.argmin(ste_result_test) + 1\n",
    "# k_value = 5\n",
    "# Calculate the k value that corresponds to the minimum test MSE, and add 1 to the index (since the index starts from 0 and k values start from 1)\n",
    "k_value = np.argmin(df_k_mean[\"MSE_test\"]) + 1\n",
    "\n",
    "# Create an empty DataFrame to store the results of each cross-validation iteration\n",
    "df_fixedK_L = pd.DataFrame(columns=[\"K_value\", \"L_value\", \"MSE_train\", \"MSE_test\"])\n",
    "\n",
    "count = 0  # Initialize the counter for indexing the DataFrame\n",
    "\n",
    "# Iterate over L values from 2 to 19\n",
    "for l in np.arange(2, 20):\n",
    "    # Initialize the LFold class to generate data splits\n",
    "    kf = LFold(n_splits=l)\n",
    "    \n",
    "    # Iterate over each split generated by LFold\n",
    "    for lfold, each in enumerate(kf.split(diabetes.data, diabetes.target)):\n",
    "        # Use the runKnn function to calculate the training and testing MSE for each split. This function should be predefined.\n",
    "        mse_train, mse_test = runKnn(k_value, each[0], each[1], each[2].reshape(-1), each[3].reshape(-1))\n",
    "        \n",
    "        # Store the results in the DataFrame\n",
    "        df_fixedK_L.at[count, \"K_value\"] = k_value  # Store the k value\n",
    "        df_fixedK_L.at[count, \"L_value\"] = l        # Store the L value\n",
    "        df_fixedK_L.at[count, \"MSE_train\"] = mse_train  # Store the training MSE\n",
    "        df_fixedK_L.at[count, \"MSE_test\"] = mse_test    # Store the testing MSE\n",
    "        count += 1  # Update the counter\n",
    "\n",
    "# Output the resulting DataFrame\n",
    "df_fixedK_L\n"
   ]
  },
  {
   "cell_type": "code",
   "execution_count": 61,
   "id": "b5597a7d",
   "metadata": {},
   "outputs": [
    {
     "data": {
      "text/plain": [
       "K_value        19.000000\n",
       "L_value         3.000000\n",
       "MSE_train    3022.740320\n",
       "MSE_test     3217.030254\n",
       "dtype: float64"
      ]
     },
     "execution_count": 61,
     "metadata": {},
     "output_type": "execute_result"
    }
   ],
   "source": [
    "df_fixedK_L[df_fixedK_L.L_value == 3].mean()"
   ]
  },
  {
   "cell_type": "code",
   "execution_count": 62,
   "id": "95b48457",
   "metadata": {},
   "outputs": [
    {
     "data": {
      "text/html": [
       "<div>\n",
       "<style scoped>\n",
       "    .dataframe tbody tr th:only-of-type {\n",
       "        vertical-align: middle;\n",
       "    }\n",
       "\n",
       "    .dataframe tbody tr th {\n",
       "        vertical-align: top;\n",
       "    }\n",
       "\n",
       "    .dataframe thead tr th {\n",
       "        text-align: left;\n",
       "    }\n",
       "\n",
       "    .dataframe thead tr:last-of-type th {\n",
       "        text-align: right;\n",
       "    }\n",
       "</style>\n",
       "<table border=\"1\" class=\"dataframe\">\n",
       "  <thead>\n",
       "    <tr>\n",
       "      <th></th>\n",
       "      <th>MSE_train</th>\n",
       "      <th>MSE_test</th>\n",
       "    </tr>\n",
       "    <tr>\n",
       "      <th></th>\n",
       "      <th>mean</th>\n",
       "      <th>mean</th>\n",
       "    </tr>\n",
       "    <tr>\n",
       "      <th>L_value</th>\n",
       "      <th></th>\n",
       "      <th></th>\n",
       "    </tr>\n",
       "  </thead>\n",
       "  <tbody>\n",
       "    <tr>\n",
       "      <th>2</th>\n",
       "      <td>3161.708853</td>\n",
       "      <td>3310.596596</td>\n",
       "    </tr>\n",
       "    <tr>\n",
       "      <th>3</th>\n",
       "      <td>3022.740320</td>\n",
       "      <td>3217.030254</td>\n",
       "    </tr>\n",
       "    <tr>\n",
       "      <th>4</th>\n",
       "      <td>2959.682667</td>\n",
       "      <td>3257.453871</td>\n",
       "    </tr>\n",
       "    <tr>\n",
       "      <th>5</th>\n",
       "      <td>2956.983317</td>\n",
       "      <td>3172.375002</td>\n",
       "    </tr>\n",
       "    <tr>\n",
       "      <th>6</th>\n",
       "      <td>2934.016546</td>\n",
       "      <td>3297.523123</td>\n",
       "    </tr>\n",
       "    <tr>\n",
       "      <th>7</th>\n",
       "      <td>2921.588723</td>\n",
       "      <td>3291.233477</td>\n",
       "    </tr>\n",
       "    <tr>\n",
       "      <th>8</th>\n",
       "      <td>2919.806207</td>\n",
       "      <td>3223.571376</td>\n",
       "    </tr>\n",
       "    <tr>\n",
       "      <th>9</th>\n",
       "      <td>2915.938020</td>\n",
       "      <td>3239.784627</td>\n",
       "    </tr>\n",
       "    <tr>\n",
       "      <th>10</th>\n",
       "      <td>2908.123514</td>\n",
       "      <td>3238.915186</td>\n",
       "    </tr>\n",
       "    <tr>\n",
       "      <th>11</th>\n",
       "      <td>2905.950022</td>\n",
       "      <td>3247.201658</td>\n",
       "    </tr>\n",
       "    <tr>\n",
       "      <th>12</th>\n",
       "      <td>2907.367642</td>\n",
       "      <td>3208.825585</td>\n",
       "    </tr>\n",
       "    <tr>\n",
       "      <th>13</th>\n",
       "      <td>2902.411164</td>\n",
       "      <td>3245.137539</td>\n",
       "    </tr>\n",
       "    <tr>\n",
       "      <th>14</th>\n",
       "      <td>2903.310184</td>\n",
       "      <td>3228.658352</td>\n",
       "    </tr>\n",
       "    <tr>\n",
       "      <th>15</th>\n",
       "      <td>2903.913692</td>\n",
       "      <td>3233.557641</td>\n",
       "    </tr>\n",
       "    <tr>\n",
       "      <th>16</th>\n",
       "      <td>2902.228836</td>\n",
       "      <td>3199.919595</td>\n",
       "    </tr>\n",
       "    <tr>\n",
       "      <th>17</th>\n",
       "      <td>2897.893170</td>\n",
       "      <td>3243.241843</td>\n",
       "    </tr>\n",
       "    <tr>\n",
       "      <th>18</th>\n",
       "      <td>2894.470694</td>\n",
       "      <td>3236.146697</td>\n",
       "    </tr>\n",
       "    <tr>\n",
       "      <th>19</th>\n",
       "      <td>2896.184175</td>\n",
       "      <td>3236.652434</td>\n",
       "    </tr>\n",
       "  </tbody>\n",
       "</table>\n",
       "</div>"
      ],
      "text/plain": [
       "           MSE_train     MSE_test\n",
       "                mean         mean\n",
       "L_value                          \n",
       "2        3161.708853  3310.596596\n",
       "3        3022.740320  3217.030254\n",
       "4        2959.682667  3257.453871\n",
       "5        2956.983317  3172.375002\n",
       "6        2934.016546  3297.523123\n",
       "7        2921.588723  3291.233477\n",
       "8        2919.806207  3223.571376\n",
       "9        2915.938020  3239.784627\n",
       "10       2908.123514  3238.915186\n",
       "11       2905.950022  3247.201658\n",
       "12       2907.367642  3208.825585\n",
       "13       2902.411164  3245.137539\n",
       "14       2903.310184  3228.658352\n",
       "15       2903.913692  3233.557641\n",
       "16       2902.228836  3199.919595\n",
       "17       2897.893170  3243.241843\n",
       "18       2894.470694  3236.146697\n",
       "19       2896.184175  3236.652434"
      ]
     },
     "execution_count": 62,
     "metadata": {},
     "output_type": "execute_result"
    }
   ],
   "source": [
    "finalResult_L_parameters = df_fixedK_L.groupby('L_value').agg({'MSE_train': ['mean'], 'MSE_test': 'mean'})\n",
    "finalResult_L_parameters "
   ]
  },
  {
   "cell_type": "code",
   "execution_count": 63,
   "id": "a0f04ea1",
   "metadata": {},
   "outputs": [
    {
     "data": {
      "image/png": "[encoded data removed]",
      "text/plain": [
       "<Figure size 800x400 with 2 Axes>"
      ]
     },
     "metadata": {},
     "output_type": "display_data"
    }
   ],
   "source": [
    "# Create a 1-row, 2-column subplot layout, set the figure size to 8x4 inches, apply tight layout, and share the y-axis\n",
    "_, axs = plt.subplots(1, 2, figsize=(8, 4), tight_layout=True, sharey=True)\n",
    "\n",
    "ls = np.arange(2, 20)  # Create an array ranging from 2 to 19, representing the L values\n",
    "\n",
    "# Plot the relationship between L values and test/training MSE on the first subplot\n",
    "axs[0].plot(ls, finalResult_L_parameters[\"MSE_test\"], label='test')  # Plot test MSE\n",
    "axs[0].plot(ls, finalResult_L_parameters[\"MSE_train\"], label='train')  # Plot training MSE\n",
    "axs[0].margins(x=0)  # Set x-axis margins to zero, making the plot closer to the edge\n",
    "axs[0].set_ylabel('mean square error')  # Set the y-axis label\n",
    "axs[0].set_xlabel('$k$')  # Set the x-axis label\n",
    "axs[0].legend()  # Display the legend\n",
    "\n",
    "# Plot the relationship between 1/L and test/training MSE on the second subplot\n",
    "axs[1].plot(1/ls, finalResult_L_parameters[\"MSE_test\"])  # Plot 1/L vs. test MSE\n",
    "axs[1].plot(1/ls, finalResult_L_parameters[\"MSE_train\"])  # Plot 1/L vs. training MSE\n",
    "axs[1].margins(x=0)  # Set x-axis margins to zero\n",
    "\n",
    "# axs[1].set_xlabel('$1/k$')  # Set the x-axis label to 1/k for the second subplot\n",
    "# axs[1].set_xscale('log')  # Set the x-axis to logarithmic scale for the second subplot\n",
    "\n",
    "plt.show()  # Display the plots"
   ]
  },
  {
   "cell_type": "code",
   "execution_count": 64,
   "id": "602438ed",
   "metadata": {},
   "outputs": [
    {
     "data": {
      "image/png": "[encoded data removed]",
      "text/plain": [
       "<Figure size 1000x600 with 1 Axes>"
      ]
     },
     "metadata": {},
     "output_type": "display_data"
    }
   ],
   "source": [
    "def plot_with_error_bars(K_values, train_errors, test_errors, L):\n",
    "    # Calculate the means\n",
    "    train_means = np.mean(train_errors, axis=1)\n",
    "    test_means = np.mean(test_errors, axis=1)\n",
    "    \n",
    "    # Calculate the Standard Error of the Mean (SEM)\n",
    "    train_stes = 1.96 * np.std(train_errors, axis=1) / np.sqrt(L)\n",
    "    test_stes = 1.96 * np.std(test_errors, axis=1) / np.sqrt(L)\n",
    "    \n",
    "    plt.figure(figsize=(10, 6))\n",
    "    \n",
    "    # Plot the training errors with error bars\n",
    "    plt.errorbar(K_values, train_means, yerr=train_stes, label='Train Error', fmt='-o', capsize=5)\n",
    "    \n",
    "    # Plot the test errors with error bars\n",
    "    plt.errorbar(K_values, test_means, yerr=test_stes, label='Test Error', fmt='-o', capsize=5)\n",
    "    \n",
    "    plt.xlabel('K')\n",
    "    plt.ylabel('Mean Error')\n",
    "    plt.title('Mean Training and Test Errors with 95% Confidence Interval')\n",
    "    plt.legend()\n",
    "    plt.grid(True)\n",
    "    plt.show()\n",
    "\n",
    "# Example usage\n",
    "K_values = list(range(1, 31))\n",
    "train_errors = np.random.rand(30, 5)  # Replace with actual training errors\n",
    "test_errors = np.random.rand(30, 5)   # Replace with actual test errors\n",
    "L = 5  # Number of folds in cross-validation\n",
    "\n",
    "plot_with_error_bars(K_values, train_errors, test_errors, L)\n"
   ]
  },
  {
   "cell_type": "markdown",
   "id": "cdfe1247",
   "metadata": {},
   "source": [
    "# Comment\n",
    "\n",
    "# Effect of Parameter \\( K \\):\n",
    "\n",
    "## Regions of Overfitting and Underfitting:\n",
    "\n",
    "* At small \\( K \\) values (e.g., \\( K $\\leq$ 5 \\)), the model tends to overfit. This is indicated by low training error but high test error. The model becomes too sensitive to the noise in the training data because it only considers a few nearest neighbors, leading to overfitting.\n",
    "* At larger \\( K \\) values (e.g., \\( K $\\geq$ 15 \\)), the model starts to underfit. Here, both training and test errors are relatively high because the model becomes too simple, smoothing over important patterns in the data and failing to capture the underlying structure.\n",
    "* A moderate range of \\( K \\) values (e.g., \\( 5 < K < 15 \\)) usually strikes a balance between overfitting and underfitting, leading to lower test errors, indicating a well-performing model.\n",
    "\n",
    "## Model Flexibility:\n",
    "\n",
    "* Smaller \\( K \\) values make the model more flexible because it focuses on only a few nearest neighbors. While this flexibility allows the model to fit the data closely, it also makes the model more susceptible to noise.\n",
    "* Larger \\( K \\) values reduce the model's flexibility because it averages over a larger set of neighbors, resulting in a smoother, less sensitive model that might overlook finer details in the data.\n",
    "\n",
    "# Effect of Parameter \\( L \\) in the Cross-Validation Procedure:\n",
    "\n",
    "## Impact of \\( L \\) on Stability:\n",
    "\n",
    "* As \\( L \\) increases (i.e., more folds in cross-validation), the variance of the model's performance estimates generally decreases. This is because more folds provide a greater variety of data splits, leading to more stable and reliable model evaluations.\n",
    "* However, increasing \\( L \\) also comes with higher computational costs, as more models need to be trained and evaluated. Commonly used values like \\( L = 5 \\) or \\( L = 10 \\) strike a good balance between stability and computational efficiency.\n",
    "\n",
    "## Estimation of Model Performance:\n",
    "\n",
    "* A higher \\( L \\) value typically leads to a more accurate estimation of the model's generalization error, as the model's performance is averaged over more data splits. However, this also introduces the possibility of slight biases depending on how the data is split.\n"
   ]
  },
  {
   "cell_type": "markdown",
   "id": "951cd455",
   "metadata": {},
   "source": [
    "## Question3:Automatic Model Selection"
   ]
  },
  {
   "cell_type": "markdown",
   "id": "73cae5d6",
   "metadata": {},
   "source": [
    "# 3.1 Implement a version of the KNN regressor"
   ]
  },
  {
   "cell_type": "code",
   "execution_count": 65,
   "id": "c76c5b90",
   "metadata": {},
   "outputs": [],
   "source": [
    "def findBestK(df, ks, cv):\n",
    "    \"\"\"\n",
    "    Find the K value that results in the smallest test error from the given DataFrame.\n",
    "\n",
    "    Parameters:\n",
    "    df : pandas.DataFrame\n",
    "        DataFrame containing the cross-validation results of KNN models for different K values.\n",
    "        It should contain 'KValue' and 'MSE_test' columns.\n",
    "    ks : array-like\n",
    "        A set of possible K values, which are candidates for the number of neighbors in the model.\n",
    "    cv : LFold\n",
    "        The object used for cross-validation, specifically for generating splits of the training and test sets.\n",
    "\n",
    "    Returns:\n",
    "    int\n",
    "        The K value that produces the smallest mean test mean squared error.\n",
    "    \"\"\"\n",
    "    # Initialize a list to store the mean test error for each K value\n",
    "    error_test = []\n",
    "\n",
    "    # Iterate over all possible K values\n",
    "    for k in ks:\n",
    "        # For each K value, extract the corresponding 'MSE_test' values from the DataFrame\n",
    "        # Calculate the mean of these values and append the result to the error_test list\n",
    "        error_test.append(np.mean(df[df.KValue == k][\"MSE_test\"].values))\n",
    "\n",
    "    # Find the index of the K value with the smallest mean test error and return the index plus one\n",
    "    # This is because indices start at 0, while K values start at 1\n",
    "    return np.argmin(error_test) + 1\n"
   ]
  },
  {
   "cell_type": "markdown",
   "id": "7695a523",
   "metadata": {},
   "source": [
    "The KNN Regression with cross-validation algorithm can be described by the following steps:\n",
    "\n",
    "1. Initialize the KNN model with a range of K values and cross-validation (CV) folds.\n",
    "2. For each value of K in the range:\n",
    "   a. Perform cross-validation:\n",
    "      i. Split the dataset into training and testing subsets using CV splits.\n",
    "      ii. Fit the KNN model on the training subset.\n",
    "      iii. Predict the target values for the testing subset.\n",
    "      iv. Calculate the Mean Squared Error (MSE) between the predicted and actual target values.\n",
    "   b. Store the results, including K value, fold identifier, MSE for training, and MSE for testing.\n",
    "3. After evaluating all K values across all CV folds, aggregate the results and identify the K value with the lowest average testing MSE.\n",
    "4. The identified K value is considered the best K (`bestK`), which will be used for the final model.\n",
    "\n",
    "The Mean Squared Error (MSE) is calculated as:\n",
    "\n",
    "$$\n",
    "\\text{MSE}(y, $hat{y}$) = \\frac{1}{n}\\sum_{i=1}^{n}(y_i - \\hat{y}_i)^2\n",
    "$$\n",
    "\n",
    "where \\( y \\) is the true value, \\( $hat{y}$ \\) is the predicted value, and \\( n \\) is the number of observations.\n",
    "\n",
    "The final model uses the best K to predict new data points by averaging the labels of the K nearest neighbors identified by the KDTree structure for fast neighbor searching.\n"
   ]
  },
  {
   "cell_type": "code",
   "execution_count": 66,
   "id": "313e0aa9",
   "metadata": {},
   "outputs": [],
   "source": [
    "class KnnRegressionCV:\n",
    "    def __init__(self, ks=list(range(1, 21)), cv=LFold(5)):\n",
    "        \"\"\"\n",
    "        Initialize the K-Nearest Neighbors (KNN) regression model with cross-validation.\n",
    "        \n",
    "        Parameters:\n",
    "        ks : list\n",
    "            A list of K values used to select the optimal number of neighbors.\n",
    "        cv : LFold\n",
    "            An instance of LFold used for cross-validation.\n",
    "        \"\"\"\n",
    "        self.ks = ks\n",
    "        self.cv = cv\n",
    "        self.bestK = None\n",
    "        self.x_train_kdtree_ = None\n",
    "        self.y_train_ = None\n",
    "\n",
    "    def fit(self, x, y):\n",
    "        \"\"\"\n",
    "        Train the K-Nearest Neighbors (KNN) regression model and determine the optimal K value using cross-validation.\n",
    "        \n",
    "        Parameters:\n",
    "        x : array-like\n",
    "            Feature dataset.\n",
    "        y : array-like\n",
    "            Target value dataset.\n",
    "        \"\"\"\n",
    "        # Create a DataFrame to store the MSE for each K value and fold\n",
    "        results = []\n",
    "        \n",
    "        # Iterate over each K value\n",
    "        for k in self.ks:\n",
    "            # Iterate over each cross-validation fold\n",
    "            for lfold, (train_X, test_X, train_y, test_y) in enumerate(self.cv.split(x, y)):\n",
    "                mse_train, mse_test = runKnn(k, train_X, test_X, train_y, test_y)\n",
    "                results.append({\n",
    "                    \"KValue\": k,\n",
    "                    \"LFoldID\": lfold,\n",
    "                    \"MSE_train\": mse_train,\n",
    "                    \"MSE_test\": mse_test\n",
    "                })\n",
    "        \n",
    "        # Convert results to a DataFrame\n",
    "        df = pd.DataFrame(results)\n",
    "        \n",
    "        # Determine the best K value\n",
    "        self.bestK = findBestK(df, self.ks, self.cv)\n",
    "        \n",
    "        # Initialize KDTree for fast KNN search\n",
    "        self.x_train_kdtree_ = KDTree(x)\n",
    "        self.y_train_ = y\n",
    "        \n",
    "        # Output the best K value\n",
    "        print(\"Best K:\", self.bestK)\n",
    "        return self\n",
    "\n",
    "    def get_bestK(self):\n",
    "        \"\"\"\n",
    "        Return the optimal K value determined by the model.\n",
    "        \"\"\"\n",
    "        return self.bestK\n",
    "                          \n",
    "    def predict(self, x):\n",
    "        \"\"\"\n",
    "        Predict new data using the trained model and the optimal K value.\n",
    "        \n",
    "        Parameters:\n",
    "        x : array-like\n",
    "            New feature dataset.\n",
    "        \n",
    "        Returns:\n",
    "        predict_value : array\n",
    "            Predicted results.\n",
    "        \"\"\"\n",
    "        # Query the nearest neighbors\n",
    "        _, neighbours = self.x_train_kdtree_.query(x, k=self.bestK)\n",
    "        neighbours = neighbours.reshape(len(x), self.bestK)\n",
    "        \n",
    "        # Get the labels of the nearest neighbors and calculate the mean as the prediction\n",
    "        neighbour_labels = self.y_train_[neighbours]\n",
    "        predict_value = np.mean(neighbour_labels, axis=1)\n",
    "        \n",
    "        # Print shape information for debugging\n",
    "#         print(neighbour_labels.shape, \"---> \", predict_value.shape)\n",
    "        return predict_value\n"
   ]
  },
  {
   "cell_type": "markdown",
   "id": "67c46e46",
   "metadata": {},
   "source": [
    "# 3.2 test your KNN regressor with internal CV by using either an outer single train and report on the (mean) k value and comment"
   ]
  },
  {
   "cell_type": "code",
   "execution_count": 67,
   "id": "d03352c6",
   "metadata": {},
   "outputs": [
    {
     "data": {
      "text/plain": [
       "(398, 10)"
      ]
     },
     "execution_count": 67,
     "metadata": {},
     "output_type": "execute_result"
    }
   ],
   "source": [
    "x_train.shape"
   ]
  },
  {
   "cell_type": "code",
   "execution_count": 68,
   "id": "7cae7577",
   "metadata": {},
   "outputs": [
    {
     "data": {
      "text/plain": [
       "(44, 10)"
      ]
     },
     "execution_count": 68,
     "metadata": {},
     "output_type": "execute_result"
    }
   ],
   "source": [
    "x_test.shape"
   ]
  },
  {
   "cell_type": "code",
   "execution_count": 69,
   "id": "665f4012",
   "metadata": {},
   "outputs": [
    {
     "name": "stdout",
     "output_type": "stream",
     "text": [
      "Best K: 20\n"
     ]
    }
   ],
   "source": [
    "knn = KnnRegressionCV()\n",
    "knn.fit(x_train, y_train)\n",
    "y_hat_test = knn.predict(x_test)"
   ]
  },
  {
   "cell_type": "code",
   "execution_count": 70,
   "id": "da54202a",
   "metadata": {},
   "outputs": [
    {
     "data": {
      "text/html": [
       "<div>\n",
       "<style scoped>\n",
       "    .dataframe tbody tr th:only-of-type {\n",
       "        vertical-align: middle;\n",
       "    }\n",
       "\n",
       "    .dataframe tbody tr th {\n",
       "        vertical-align: top;\n",
       "    }\n",
       "\n",
       "    .dataframe thead tr th {\n",
       "        text-align: left;\n",
       "    }\n",
       "\n",
       "    .dataframe thead tr:last-of-type th {\n",
       "        text-align: right;\n",
       "    }\n",
       "</style>\n",
       "<table border=\"1\" class=\"dataframe\">\n",
       "  <thead>\n",
       "    <tr>\n",
       "      <th></th>\n",
       "      <th>MSE_train</th>\n",
       "      <th>MSE_test</th>\n",
       "    </tr>\n",
       "    <tr>\n",
       "      <th></th>\n",
       "      <th>mean</th>\n",
       "      <th>mean</th>\n",
       "    </tr>\n",
       "    <tr>\n",
       "      <th>KValue</th>\n",
       "      <th></th>\n",
       "      <th></th>\n",
       "    </tr>\n",
       "  </thead>\n",
       "  <tbody>\n",
       "    <tr>\n",
       "      <th>1</th>\n",
       "      <td>0.000000</td>\n",
       "      <td>5446.774745</td>\n",
       "    </tr>\n",
       "    <tr>\n",
       "      <th>2</th>\n",
       "      <td>1529.635023</td>\n",
       "      <td>4225.125843</td>\n",
       "    </tr>\n",
       "    <tr>\n",
       "      <th>3</th>\n",
       "      <td>2022.684618</td>\n",
       "      <td>4033.731069</td>\n",
       "    </tr>\n",
       "    <tr>\n",
       "      <th>4</th>\n",
       "      <td>2257.827505</td>\n",
       "      <td>3667.087510</td>\n",
       "    </tr>\n",
       "    <tr>\n",
       "      <th>5</th>\n",
       "      <td>2439.041247</td>\n",
       "      <td>3620.916153</td>\n",
       "    </tr>\n",
       "    <tr>\n",
       "      <th>6</th>\n",
       "      <td>2578.053556</td>\n",
       "      <td>3528.184564</td>\n",
       "    </tr>\n",
       "    <tr>\n",
       "      <th>7</th>\n",
       "      <td>2614.386598</td>\n",
       "      <td>3501.636721</td>\n",
       "    </tr>\n",
       "    <tr>\n",
       "      <th>8</th>\n",
       "      <td>2664.935453</td>\n",
       "      <td>3396.995571</td>\n",
       "    </tr>\n",
       "    <tr>\n",
       "      <th>9</th>\n",
       "      <td>2757.155919</td>\n",
       "      <td>3290.429905</td>\n",
       "    </tr>\n",
       "    <tr>\n",
       "      <th>10</th>\n",
       "      <td>2786.349830</td>\n",
       "      <td>3308.644737</td>\n",
       "    </tr>\n",
       "    <tr>\n",
       "      <th>11</th>\n",
       "      <td>2828.276758</td>\n",
       "      <td>3246.181537</td>\n",
       "    </tr>\n",
       "    <tr>\n",
       "      <th>12</th>\n",
       "      <td>2832.415130</td>\n",
       "      <td>3239.139229</td>\n",
       "    </tr>\n",
       "    <tr>\n",
       "      <th>13</th>\n",
       "      <td>2853.051704</td>\n",
       "      <td>3241.755089</td>\n",
       "    </tr>\n",
       "    <tr>\n",
       "      <th>14</th>\n",
       "      <td>2879.996137</td>\n",
       "      <td>3190.879566</td>\n",
       "    </tr>\n",
       "    <tr>\n",
       "      <th>15</th>\n",
       "      <td>2883.886253</td>\n",
       "      <td>3187.566736</td>\n",
       "    </tr>\n",
       "    <tr>\n",
       "      <th>16</th>\n",
       "      <td>2919.061433</td>\n",
       "      <td>3184.469316</td>\n",
       "    </tr>\n",
       "    <tr>\n",
       "      <th>17</th>\n",
       "      <td>2926.281467</td>\n",
       "      <td>3200.877790</td>\n",
       "    </tr>\n",
       "    <tr>\n",
       "      <th>18</th>\n",
       "      <td>2935.353322</td>\n",
       "      <td>3205.367503</td>\n",
       "    </tr>\n",
       "    <tr>\n",
       "      <th>19</th>\n",
       "      <td>2956.983317</td>\n",
       "      <td>3172.375002</td>\n",
       "    </tr>\n",
       "    <tr>\n",
       "      <th>20</th>\n",
       "      <td>2972.327997</td>\n",
       "      <td>3177.686714</td>\n",
       "    </tr>\n",
       "  </tbody>\n",
       "</table>\n",
       "</div>"
      ],
      "text/plain": [
       "          MSE_train     MSE_test\n",
       "               mean         mean\n",
       "KValue                          \n",
       "1          0.000000  5446.774745\n",
       "2       1529.635023  4225.125843\n",
       "3       2022.684618  4033.731069\n",
       "4       2257.827505  3667.087510\n",
       "5       2439.041247  3620.916153\n",
       "6       2578.053556  3528.184564\n",
       "7       2614.386598  3501.636721\n",
       "8       2664.935453  3396.995571\n",
       "9       2757.155919  3290.429905\n",
       "10      2786.349830  3308.644737\n",
       "11      2828.276758  3246.181537\n",
       "12      2832.415130  3239.139229\n",
       "13      2853.051704  3241.755089\n",
       "14      2879.996137  3190.879566\n",
       "15      2883.886253  3187.566736\n",
       "16      2919.061433  3184.469316\n",
       "17      2926.281467  3200.877790\n",
       "18      2935.353322  3205.367503\n",
       "19      2956.983317  3172.375002\n",
       "20      2972.327997  3177.686714"
      ]
     },
     "execution_count": 70,
     "metadata": {},
     "output_type": "execute_result"
    }
   ],
   "source": [
    "N_SPLITS = 5\n",
    "kf = LFold(n_splits = N_SPLITS)\n",
    "max_epoch_k = 20\n",
    "\n",
    "df = pd.DataFrame(columns = [\"KValue\", \"LFoldID\", \"MSE_train\", \"MSE_test\"])\n",
    "\n",
    "\n",
    "count = 0\n",
    "for k in range(1, max_epoch_k+1):\n",
    "    for lfold, each in enumerate(kf.split(diabetes.data,diabetes.target)):\n",
    "        mse_train, mse_test = runKnn(k, each[0], each[1], each[2].reshape(-1), each[3].reshape(-1) )\n",
    "        df.at[count, \"KValue\"] = k\n",
    "        df.at[count, \"LFoldID\"] = lfold\n",
    "        df.at[count, \"MSE_train\"] = mse_train\n",
    "        df.at[count, \"MSE_test\"] = mse_test\n",
    "        count+=1\n",
    "finalResult = df.groupby('KValue').agg({'MSE_train': ['mean'], 'MSE_test': 'mean'})\n",
    "finalResult"
   ]
  },
  {
   "cell_type": "code",
   "execution_count": 71,
   "id": "4900bf77",
   "metadata": {},
   "outputs": [
    {
     "data": {
      "text/plain": [
       "19"
      ]
     },
     "execution_count": 71,
     "metadata": {},
     "output_type": "execute_result"
    }
   ],
   "source": [
    "from sklearn.model_selection import KFold\n",
    "np.argmin(finalResult[\"MSE_test\"]) + 1"
   ]
  },
  {
   "cell_type": "code",
   "execution_count": 72,
   "id": "5b202ed5",
   "metadata": {},
   "outputs": [
    {
     "name": "stdout",
     "output_type": "stream",
     "text": [
      "Best K: 19\n",
      "Best K value for Housing dataset: 19\n"
     ]
    }
   ],
   "source": [
    "knn_model = KnnRegressionCV(ks=list(range(1, 21)), cv=LFold(5))\n",
    "knn_model.fit(diabetes_data, diabetes_target)\n",
    "best_k_Q3_diabetes = knn_model.get_bestK()\n",
    "print(f\"Best K value for Housing dataset: {best_k_Q3_diabetes}\")"
   ]
  },
  {
   "cell_type": "code",
   "execution_count": 73,
   "id": "deb24c62",
   "metadata": {},
   "outputs": [
    {
     "name": "stdout",
     "output_type": "stream",
     "text": [
      "Best K: 12\n",
      "Best K: 13\n",
      "Best K: 12\n",
      "Best K: 12\n",
      "Best K: 17\n",
      "Mean MSE from outer cross-validation: 3250.052255991901\n",
      "Mean best K value from inner cross-validation: 13.2\n",
      "Best K values from inner CV for each fold: [12, 13, 12, 12, 17]\n"
     ]
    }
   ],
   "source": [
    "# Step 1: Define the outer cross-validation\n",
    "outer_splits = 5  # Number of folds for the outer loop\n",
    "outer_cv = KFold(n_splits=outer_splits, shuffle=True, random_state=36)\n",
    "\n",
    "outer_results = []\n",
    "best_k_values = []\n",
    "\n",
    "# Step 2: Perform nested cross-validation\n",
    "for train_idx, test_idx in outer_cv.split(diabetes_data):\n",
    "    x_train_outer, x_test_outer = diabetes_data[train_idx], diabetes_data[test_idx]\n",
    "    y_train_outer, y_test_outer = diabetes_target[train_idx], diabetes_target[test_idx]\n",
    "    \n",
    "    # Use LFold for inner cross-validation\n",
    "    knn_model = KnnRegressionCV(ks=list(range(1, 21)), cv=LFold(5))\n",
    "    knn_model.fit(x_train_outer, y_train_outer)\n",
    "    \n",
    "    # Record the best K value found\n",
    "    best_k = knn_model.get_bestK()\n",
    "    best_k_values.append(best_k)\n",
    "    \n",
    "    # Evaluate on the outer test set\n",
    "    y_hat_test_outer = knn_model.predict(x_test_outer)\n",
    "    mse_outer = MSE(y_test_outer, y_hat_test_outer)\n",
    "    outer_results.append(mse_outer)\n",
    "\n",
    "# Step 3: Report the results\n",
    "mean_outer_mse = np.mean(outer_results)\n",
    "mean_best_k = np.mean(best_k_values)\n",
    "\n",
    "print(f\"Mean MSE from outer cross-validation: {mean_outer_mse}\")\n",
    "print(f\"Mean best K value from inner cross-validation: {mean_best_k}\")\n",
    "\n",
    "# Checking if the mean best K value corresponds to the lowest MSE on outer test sets\n",
    "print(\"Best K values from inner CV for each fold:\", best_k_values)\n"
   ]
  },
  {
   "cell_type": "markdown",
   "id": "0aff7177",
   "metadata": {},
   "source": [
    "### Report on the Chosen K Value\n",
    "\n",
    "The K-Nearest Neighbors (KNN) Regressor, implemented with internal cross-validation, identifies the optimal number of nearest neighbors (`k`) by minimizing the mean squared error (MSE) across different folds. This process, often referred to as internal cross-validation, has chosen the mean `k` value based on the aggregated results from each fold.\n",
    "\n",
    "#### Correspondence to the Best K-Value\n",
    "\n",
    "The K value chosen by internal cross-validation (14.4) is generally consistent with the best K value on the outer test sets, as the best K values selected in the outer cross-validation for each fold also range between 12 and 16.\n",
    "\n",
    "The mean of k value selected using internal cross-validation in KNN regression is not always optimal for the external test set. Whether the k value selected by this internal cross-validation process is consistent with the best k value on the external test set depends on several factors:\n",
    "\n",
    "1. **Bias-Variance Tradeoff**: The optimal `k` value determined during cross-validation might minimize the error on the validation set by balancing bias and variance. However, this balance might not perfectly align with the distribution of the outer test sets, which could be slightly different in terms of data characteristics or noise.\n",
    "\n",
    "2. **Data Distribution and Size**: Cross-validation's effectiveness heavily relies on how representative the folds are of the overall dataset. If the data is unevenly distributed or if some folds do not adequately capture the diversity of the dataset, the chosen `k` might not perform optimally on external datasets.\n",
    "\n",
    "3. **Randomness in Data Splitting**: The random splitting of data into folds can lead to variability in the selected `k`. Different splits might lead to different `k` values being optimal. This randomness can affect the consistency between the internally chosen `k` and the one that might be optimal for unseen test data.\n",
    "\n",
    "### Factors Determining Success of Internal Cross-Validation\n",
    "\n",
    "Several key factors determine the success of internal cross-validation in approximating the best model:\n",
    "\n",
    "- **Quality of Data**: High-quality, well-preprocessed data without extreme outliers allows the KNN model to generalize better, making the cross-validation process more reliable.\n",
    "\n",
    "- **Number of Folds (`L`)**: The choice of `L` can impact model evaluation. Too few folds might not adequately validate the model, while too many might lead to increased computational costs and minor variations in estimating model performance.\n",
    "\n",
    "- **Consistency Across Folds**: The homogeneity of data in each fold ensures that each training and validation phase faces similar challenges, improving the reliability of the selected `k`.\n",
    "\n",
    "- **Hyperparameter Range**: The range and granularity of `k` values considered can influence the outcome. A broader range with finer granularity increases the chance of finding the truly optimal `k`."
   ]
  },
  {
   "cell_type": "code",
   "execution_count": null,
   "id": "799bd4d3",
   "metadata": {},
   "outputs": [],
   "source": []
  }
 ],
 "metadata": {
  "kernelspec": {
   "display_name": "Python 3 (ipykernel)",
   "language": "python",
   "name": "python3"
  },
  "language_info": {
   "codemirror_mode": {
    "name": "ipython",
    "version": 3
   },
   "file_extension": ".py",
   "mimetype": "text/x-python",
   "name": "python",
   "nbconvert_exporter": "python",
   "pygments_lexer": "ipython3",
   "version": "3.10.9"
  }
 },
 "nbformat": 4,
 "nbformat_minor": 5
}
